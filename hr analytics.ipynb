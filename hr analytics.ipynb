{
 "cells": [
  {
   "cell_type": "code",
   "execution_count": 1,
   "id": "6a908b50",
   "metadata": {},
   "outputs": [],
   "source": [
    "import numpy as np\n",
    "import pandas as pd\n",
    "import matplotlib.pyplot as plt\n",
    "import seaborn as sns\n",
    "import scipy.stats as stats"
   ]
  },
  {
   "cell_type": "code",
   "execution_count": 2,
   "id": "a17b3b84",
   "metadata": {},
   "outputs": [
    {
     "data": {
      "text/html": [
       "<div>\n",
       "<style scoped>\n",
       "    .dataframe tbody tr th:only-of-type {\n",
       "        vertical-align: middle;\n",
       "    }\n",
       "\n",
       "    .dataframe tbody tr th {\n",
       "        vertical-align: top;\n",
       "    }\n",
       "\n",
       "    .dataframe thead th {\n",
       "        text-align: right;\n",
       "    }\n",
       "</style>\n",
       "<table border=\"1\" class=\"dataframe\">\n",
       "  <thead>\n",
       "    <tr style=\"text-align: right;\">\n",
       "      <th></th>\n",
       "      <th>employee_id</th>\n",
       "      <th>department</th>\n",
       "      <th>region</th>\n",
       "      <th>education</th>\n",
       "      <th>gender</th>\n",
       "      <th>recruitment_channel</th>\n",
       "      <th>no_of_trainings</th>\n",
       "      <th>age</th>\n",
       "      <th>previous_year_rating</th>\n",
       "      <th>length_of_service</th>\n",
       "      <th>KPIs_met &gt;80%</th>\n",
       "      <th>awards_won?</th>\n",
       "      <th>avg_training_score</th>\n",
       "      <th>is_promoted</th>\n",
       "    </tr>\n",
       "  </thead>\n",
       "  <tbody>\n",
       "    <tr>\n",
       "      <th>0</th>\n",
       "      <td>65438</td>\n",
       "      <td>Sales &amp; Marketing</td>\n",
       "      <td>region_7</td>\n",
       "      <td>Master's &amp; above</td>\n",
       "      <td>f</td>\n",
       "      <td>sourcing</td>\n",
       "      <td>1</td>\n",
       "      <td>35</td>\n",
       "      <td>5.0</td>\n",
       "      <td>8</td>\n",
       "      <td>1</td>\n",
       "      <td>0</td>\n",
       "      <td>49</td>\n",
       "      <td>0</td>\n",
       "    </tr>\n",
       "    <tr>\n",
       "      <th>1</th>\n",
       "      <td>65141</td>\n",
       "      <td>Operations</td>\n",
       "      <td>region_22</td>\n",
       "      <td>Bachelor's</td>\n",
       "      <td>m</td>\n",
       "      <td>other</td>\n",
       "      <td>1</td>\n",
       "      <td>30</td>\n",
       "      <td>5.0</td>\n",
       "      <td>4</td>\n",
       "      <td>0</td>\n",
       "      <td>0</td>\n",
       "      <td>60</td>\n",
       "      <td>0</td>\n",
       "    </tr>\n",
       "    <tr>\n",
       "      <th>2</th>\n",
       "      <td>7513</td>\n",
       "      <td>Sales &amp; Marketing</td>\n",
       "      <td>region_19</td>\n",
       "      <td>Bachelor's</td>\n",
       "      <td>m</td>\n",
       "      <td>sourcing</td>\n",
       "      <td>1</td>\n",
       "      <td>34</td>\n",
       "      <td>3.0</td>\n",
       "      <td>7</td>\n",
       "      <td>0</td>\n",
       "      <td>0</td>\n",
       "      <td>50</td>\n",
       "      <td>0</td>\n",
       "    </tr>\n",
       "    <tr>\n",
       "      <th>3</th>\n",
       "      <td>2542</td>\n",
       "      <td>Sales &amp; Marketing</td>\n",
       "      <td>region_23</td>\n",
       "      <td>Bachelor's</td>\n",
       "      <td>m</td>\n",
       "      <td>other</td>\n",
       "      <td>2</td>\n",
       "      <td>39</td>\n",
       "      <td>1.0</td>\n",
       "      <td>10</td>\n",
       "      <td>0</td>\n",
       "      <td>0</td>\n",
       "      <td>50</td>\n",
       "      <td>0</td>\n",
       "    </tr>\n",
       "    <tr>\n",
       "      <th>4</th>\n",
       "      <td>48945</td>\n",
       "      <td>Technology</td>\n",
       "      <td>region_26</td>\n",
       "      <td>Bachelor's</td>\n",
       "      <td>m</td>\n",
       "      <td>other</td>\n",
       "      <td>1</td>\n",
       "      <td>45</td>\n",
       "      <td>3.0</td>\n",
       "      <td>2</td>\n",
       "      <td>0</td>\n",
       "      <td>0</td>\n",
       "      <td>73</td>\n",
       "      <td>0</td>\n",
       "    </tr>\n",
       "  </tbody>\n",
       "</table>\n",
       "</div>"
      ],
      "text/plain": [
       "   employee_id         department     region         education gender  \\\n",
       "0        65438  Sales & Marketing   region_7  Master's & above      f   \n",
       "1        65141         Operations  region_22        Bachelor's      m   \n",
       "2         7513  Sales & Marketing  region_19        Bachelor's      m   \n",
       "3         2542  Sales & Marketing  region_23        Bachelor's      m   \n",
       "4        48945         Technology  region_26        Bachelor's      m   \n",
       "\n",
       "  recruitment_channel  no_of_trainings  age  previous_year_rating  \\\n",
       "0            sourcing                1   35                   5.0   \n",
       "1               other                1   30                   5.0   \n",
       "2            sourcing                1   34                   3.0   \n",
       "3               other                2   39                   1.0   \n",
       "4               other                1   45                   3.0   \n",
       "\n",
       "   length_of_service  KPIs_met >80%  awards_won?  avg_training_score  \\\n",
       "0                  8              1            0                  49   \n",
       "1                  4              0            0                  60   \n",
       "2                  7              0            0                  50   \n",
       "3                 10              0            0                  50   \n",
       "4                  2              0            0                  73   \n",
       "\n",
       "   is_promoted  \n",
       "0            0  \n",
       "1            0  \n",
       "2            0  \n",
       "3            0  \n",
       "4            0  "
      ]
     },
     "execution_count": 2,
     "metadata": {},
     "output_type": "execute_result"
    }
   ],
   "source": [
    "df=pd.read_csv('C:/Users/Naman/Downloads/naman python/ana lytics/loan prediction/Hr analytics/train_LZdllcl.csv')\n",
    "df.head()      "
   ]
  },
  {
   "cell_type": "code",
   "execution_count": 3,
   "id": "93794dfa",
   "metadata": {},
   "outputs": [
    {
     "data": {
      "text/html": [
       "<div>\n",
       "<style scoped>\n",
       "    .dataframe tbody tr th:only-of-type {\n",
       "        vertical-align: middle;\n",
       "    }\n",
       "\n",
       "    .dataframe tbody tr th {\n",
       "        vertical-align: top;\n",
       "    }\n",
       "\n",
       "    .dataframe thead th {\n",
       "        text-align: right;\n",
       "    }\n",
       "</style>\n",
       "<table border=\"1\" class=\"dataframe\">\n",
       "  <thead>\n",
       "    <tr style=\"text-align: right;\">\n",
       "      <th></th>\n",
       "      <th>employee_id</th>\n",
       "      <th>no_of_trainings</th>\n",
       "      <th>age</th>\n",
       "      <th>previous_year_rating</th>\n",
       "      <th>length_of_service</th>\n",
       "      <th>KPIs_met &gt;80%</th>\n",
       "      <th>awards_won?</th>\n",
       "      <th>avg_training_score</th>\n",
       "      <th>is_promoted</th>\n",
       "    </tr>\n",
       "  </thead>\n",
       "  <tbody>\n",
       "    <tr>\n",
       "      <th>count</th>\n",
       "      <td>54808.000000</td>\n",
       "      <td>54808.000000</td>\n",
       "      <td>54808.000000</td>\n",
       "      <td>50684.000000</td>\n",
       "      <td>54808.000000</td>\n",
       "      <td>54808.000000</td>\n",
       "      <td>54808.000000</td>\n",
       "      <td>54808.000000</td>\n",
       "      <td>54808.000000</td>\n",
       "    </tr>\n",
       "    <tr>\n",
       "      <th>mean</th>\n",
       "      <td>39195.830627</td>\n",
       "      <td>1.253011</td>\n",
       "      <td>34.803915</td>\n",
       "      <td>3.329256</td>\n",
       "      <td>5.865512</td>\n",
       "      <td>0.351974</td>\n",
       "      <td>0.023172</td>\n",
       "      <td>63.386750</td>\n",
       "      <td>0.085170</td>\n",
       "    </tr>\n",
       "    <tr>\n",
       "      <th>std</th>\n",
       "      <td>22586.581449</td>\n",
       "      <td>0.609264</td>\n",
       "      <td>7.660169</td>\n",
       "      <td>1.259993</td>\n",
       "      <td>4.265094</td>\n",
       "      <td>0.477590</td>\n",
       "      <td>0.150450</td>\n",
       "      <td>13.371559</td>\n",
       "      <td>0.279137</td>\n",
       "    </tr>\n",
       "    <tr>\n",
       "      <th>min</th>\n",
       "      <td>1.000000</td>\n",
       "      <td>1.000000</td>\n",
       "      <td>20.000000</td>\n",
       "      <td>1.000000</td>\n",
       "      <td>1.000000</td>\n",
       "      <td>0.000000</td>\n",
       "      <td>0.000000</td>\n",
       "      <td>39.000000</td>\n",
       "      <td>0.000000</td>\n",
       "    </tr>\n",
       "    <tr>\n",
       "      <th>25%</th>\n",
       "      <td>19669.750000</td>\n",
       "      <td>1.000000</td>\n",
       "      <td>29.000000</td>\n",
       "      <td>3.000000</td>\n",
       "      <td>3.000000</td>\n",
       "      <td>0.000000</td>\n",
       "      <td>0.000000</td>\n",
       "      <td>51.000000</td>\n",
       "      <td>0.000000</td>\n",
       "    </tr>\n",
       "    <tr>\n",
       "      <th>50%</th>\n",
       "      <td>39225.500000</td>\n",
       "      <td>1.000000</td>\n",
       "      <td>33.000000</td>\n",
       "      <td>3.000000</td>\n",
       "      <td>5.000000</td>\n",
       "      <td>0.000000</td>\n",
       "      <td>0.000000</td>\n",
       "      <td>60.000000</td>\n",
       "      <td>0.000000</td>\n",
       "    </tr>\n",
       "    <tr>\n",
       "      <th>75%</th>\n",
       "      <td>58730.500000</td>\n",
       "      <td>1.000000</td>\n",
       "      <td>39.000000</td>\n",
       "      <td>4.000000</td>\n",
       "      <td>7.000000</td>\n",
       "      <td>1.000000</td>\n",
       "      <td>0.000000</td>\n",
       "      <td>76.000000</td>\n",
       "      <td>0.000000</td>\n",
       "    </tr>\n",
       "    <tr>\n",
       "      <th>max</th>\n",
       "      <td>78298.000000</td>\n",
       "      <td>10.000000</td>\n",
       "      <td>60.000000</td>\n",
       "      <td>5.000000</td>\n",
       "      <td>37.000000</td>\n",
       "      <td>1.000000</td>\n",
       "      <td>1.000000</td>\n",
       "      <td>99.000000</td>\n",
       "      <td>1.000000</td>\n",
       "    </tr>\n",
       "  </tbody>\n",
       "</table>\n",
       "</div>"
      ],
      "text/plain": [
       "        employee_id  no_of_trainings           age  previous_year_rating  \\\n",
       "count  54808.000000     54808.000000  54808.000000          50684.000000   \n",
       "mean   39195.830627         1.253011     34.803915              3.329256   \n",
       "std    22586.581449         0.609264      7.660169              1.259993   \n",
       "min        1.000000         1.000000     20.000000              1.000000   \n",
       "25%    19669.750000         1.000000     29.000000              3.000000   \n",
       "50%    39225.500000         1.000000     33.000000              3.000000   \n",
       "75%    58730.500000         1.000000     39.000000              4.000000   \n",
       "max    78298.000000        10.000000     60.000000              5.000000   \n",
       "\n",
       "       length_of_service  KPIs_met >80%   awards_won?  avg_training_score  \\\n",
       "count       54808.000000   54808.000000  54808.000000        54808.000000   \n",
       "mean            5.865512       0.351974      0.023172           63.386750   \n",
       "std             4.265094       0.477590      0.150450           13.371559   \n",
       "min             1.000000       0.000000      0.000000           39.000000   \n",
       "25%             3.000000       0.000000      0.000000           51.000000   \n",
       "50%             5.000000       0.000000      0.000000           60.000000   \n",
       "75%             7.000000       1.000000      0.000000           76.000000   \n",
       "max            37.000000       1.000000      1.000000           99.000000   \n",
       "\n",
       "        is_promoted  \n",
       "count  54808.000000  \n",
       "mean       0.085170  \n",
       "std        0.279137  \n",
       "min        0.000000  \n",
       "25%        0.000000  \n",
       "50%        0.000000  \n",
       "75%        0.000000  \n",
       "max        1.000000  "
      ]
     },
     "execution_count": 3,
     "metadata": {},
     "output_type": "execute_result"
    }
   ],
   "source": [
    "df.describe()"
   ]
  },
  {
   "cell_type": "code",
   "execution_count": 4,
   "id": "ec88a342",
   "metadata": {},
   "outputs": [
    {
     "name": "stdout",
     "output_type": "stream",
     "text": [
      "<class 'pandas.core.frame.DataFrame'>\n",
      "RangeIndex: 54808 entries, 0 to 54807\n",
      "Data columns (total 14 columns):\n",
      " #   Column                Non-Null Count  Dtype  \n",
      "---  ------                --------------  -----  \n",
      " 0   employee_id           54808 non-null  int64  \n",
      " 1   department            54808 non-null  object \n",
      " 2   region                54808 non-null  object \n",
      " 3   education             52399 non-null  object \n",
      " 4   gender                54808 non-null  object \n",
      " 5   recruitment_channel   54808 non-null  object \n",
      " 6   no_of_trainings       54808 non-null  int64  \n",
      " 7   age                   54808 non-null  int64  \n",
      " 8   previous_year_rating  50684 non-null  float64\n",
      " 9   length_of_service     54808 non-null  int64  \n",
      " 10  KPIs_met >80%         54808 non-null  int64  \n",
      " 11  awards_won?           54808 non-null  int64  \n",
      " 12  avg_training_score    54808 non-null  int64  \n",
      " 13  is_promoted           54808 non-null  int64  \n",
      "dtypes: float64(1), int64(8), object(5)\n",
      "memory usage: 5.9+ MB\n"
     ]
    }
   ],
   "source": [
    "df.info()"
   ]
  },
  {
   "cell_type": "code",
   "execution_count": 5,
   "id": "18afe21b",
   "metadata": {
    "scrolled": true
   },
   "outputs": [
    {
     "data": {
      "text/plain": [
       "employee_id            -0.003128\n",
       "no_of_trainings         3.445434\n",
       "age                     1.007432\n",
       "previous_year_rating   -0.310638\n",
       "length_of_service       1.738061\n",
       "KPIs_met >80%           0.619909\n",
       "awards_won?             6.338914\n",
       "avg_training_score      0.451908\n",
       "is_promoted             2.972339\n",
       "dtype: float64"
      ]
     },
     "execution_count": 5,
     "metadata": {},
     "output_type": "execute_result"
    }
   ],
   "source": [
    "df.skew()\n",
    "#no_of_trainings -IS HIGHLY RIGHT SKEWED\n",
    "#awards_won?     -IS HIGHLY RIGHT SKEWED"
   ]
  },
  {
   "cell_type": "code",
   "execution_count": 6,
   "id": "3ec8686a",
   "metadata": {},
   "outputs": [
    {
     "data": {
      "text/plain": [
       "employee_id             22586.581449\n",
       "no_of_trainings             0.609264\n",
       "age                         7.660169\n",
       "previous_year_rating        1.259993\n",
       "length_of_service           4.265094\n",
       "KPIs_met >80%               0.477590\n",
       "awards_won?                 0.150450\n",
       "avg_training_score         13.371559\n",
       "is_promoted                 0.279137\n",
       "dtype: float64"
      ]
     },
     "execution_count": 6,
     "metadata": {},
     "output_type": "execute_result"
    }
   ],
   "source": [
    "df.std()"
   ]
  },
  {
   "cell_type": "markdown",
   "id": "d745cbd9",
   "metadata": {},
   "source": [
    "# PERCENTAGE OF NULL VALUES PRESENT"
   ]
  },
  {
   "cell_type": "code",
   "execution_count": 7,
   "id": "3ed7847f",
   "metadata": {},
   "outputs": [
    {
     "data": {
      "text/plain": [
       "employee_id             0.000000\n",
       "department              0.000000\n",
       "region                  0.000000\n",
       "education               4.395344\n",
       "gender                  0.000000\n",
       "recruitment_channel     0.000000\n",
       "no_of_trainings         0.000000\n",
       "age                     0.000000\n",
       "previous_year_rating    7.524449\n",
       "length_of_service       0.000000\n",
       "KPIs_met >80%           0.000000\n",
       "awards_won?             0.000000\n",
       "avg_training_score      0.000000\n",
       "is_promoted             0.000000\n",
       "dtype: float64"
      ]
     },
     "execution_count": 7,
     "metadata": {},
     "output_type": "execute_result"
    }
   ],
   "source": [
    "df.isnull().sum()/len(df)*100"
   ]
  },
  {
   "cell_type": "code",
   "execution_count": 8,
   "id": "7f431897",
   "metadata": {},
   "outputs": [
    {
     "data": {
      "text/plain": [
       "<AxesSubplot:xlabel='education'>"
      ]
     },
     "execution_count": 8,
     "metadata": {},
     "output_type": "execute_result"
    },
    {
     "data": {
      "image/png": "[encoded data removed]",
      "text/plain": [
       "<Figure size 432x288 with 1 Axes>"
      ]
     },
     "metadata": {
      "needs_background": "light"
     },
     "output_type": "display_data"
    }
   ],
   "source": [
    "(pd.crosstab(df['education'],df['is_promoted'],normalize='columns')*100).plot(kind='bar')"
   ]
  },
  {
   "cell_type": "markdown",
   "id": "1fb60f59",
   "metadata": {},
   "source": [
    "# Imputation "
   ]
  },
  {
   "cell_type": "code",
   "execution_count": 9,
   "id": "0c4f343e",
   "metadata": {},
   "outputs": [],
   "source": [
    "df['education']=df['education'].fillna(df['education'].mode()[0])\n",
    "\n",
    "#Highest Eductation Category is Education."
   ]
  },
  {
   "cell_type": "code",
   "execution_count": 10,
   "id": "dce7a94f",
   "metadata": {},
   "outputs": [
    {
     "data": {
      "text/plain": [
       "3.0    18618\n",
       "5.0    11741\n",
       "4.0     9877\n",
       "1.0     6223\n",
       "2.0     4225\n",
       "NaN     4124\n",
       "Name: previous_year_rating, dtype: int64"
      ]
     },
     "execution_count": 10,
     "metadata": {},
     "output_type": "execute_result"
    }
   ],
   "source": [
    "df.previous_year_rating.value_counts(dropna=False)"
   ]
  },
  {
   "cell_type": "code",
   "execution_count": 11,
   "id": "8d9c4379",
   "metadata": {},
   "outputs": [],
   "source": [
    "df['previous_year_rating']=df['previous_year_rating'].fillna(0)\n",
    "#imputing the the Previous Year Rating by 0 ,i.e minimum value "
   ]
  },
  {
   "cell_type": "code",
   "execution_count": 12,
   "id": "e375f2b4",
   "metadata": {},
   "outputs": [
    {
     "data": {
      "text/plain": [
       "employee_id             0.0\n",
       "department              0.0\n",
       "region                  0.0\n",
       "education               0.0\n",
       "gender                  0.0\n",
       "recruitment_channel     0.0\n",
       "no_of_trainings         0.0\n",
       "age                     0.0\n",
       "previous_year_rating    0.0\n",
       "length_of_service       0.0\n",
       "KPIs_met >80%           0.0\n",
       "awards_won?             0.0\n",
       "avg_training_score      0.0\n",
       "is_promoted             0.0\n",
       "dtype: float64"
      ]
     },
     "execution_count": 12,
     "metadata": {},
     "output_type": "execute_result"
    }
   ],
   "source": [
    "df.isnull().sum()/len(df)*100"
   ]
  },
  {
   "cell_type": "markdown",
   "id": "4f65de35",
   "metadata": {},
   "source": [
    "# Outlier Visualisation"
   ]
  },
  {
   "cell_type": "code",
   "execution_count": 13,
   "id": "94060919",
   "metadata": {},
   "outputs": [
    {
     "data": {
      "text/plain": [
       "(array([1, 2, 3, 4, 5, 6, 7, 8]),\n",
       " [Text(1, 0, 'no_of_trainings'),\n",
       "  Text(2, 0, 'age'),\n",
       "  Text(3, 0, 'previous_year_rating'),\n",
       "  Text(4, 0, 'length_of_service'),\n",
       "  Text(5, 0, 'KPIs_met >80%'),\n",
       "  Text(6, 0, 'awards_won?'),\n",
       "  Text(7, 0, 'avg_training_score'),\n",
       "  Text(8, 0, 'is_promoted')])"
      ]
     },
     "execution_count": 13,
     "metadata": {},
     "output_type": "execute_result"
    },
    {
     "data": {
      "image/png": "[encoded data removed]",
      "text/plain": [
       "<Figure size 576x432 with 1 Axes>"
      ]
     },
     "metadata": {
      "needs_background": "light"
     },
     "output_type": "display_data"
    }
   ],
   "source": [
    "df.set_index(['employee_id'],inplace=True)\n",
    "plt.figure(figsize = [8,6])\n",
    "df.boxplot()\n",
    "\n",
    "plt.xticks(rotation=90)"
   ]
  },
  {
   "cell_type": "code",
   "execution_count": 14,
   "id": "0679ebd7",
   "metadata": {},
   "outputs": [],
   "source": [
    "#Object Type conversion\n",
    "df['KPIs_met >80%']=df['KPIs_met >80%'].astype('object')\n",
    "df['region']=df['region'].astype('object')\n",
    "df['education']=df['education'].astype('object')\n",
    "df['recruitment_channel']=df['recruitment_channel'].astype('object')\n",
    "df['no_of_trainings']=df['no_of_trainings'].astype('object')\n",
    "df['age']=df['age'].astype('object')\n",
    "df['awards_won?']=df['awards_won?'].astype('object')\n",
    "df['length_of_service']=df['length_of_service'].astype('object')\n",
    "df['no_of_trainings']=df['no_of_trainings'].astype('object')\n",
    "df['previous_year_rating']=df['previous_year_rating'].astype('object')\n",
    "df['avg_training_score']=df['avg_training_score'].astype('object')"
   ]
  },
  {
   "cell_type": "code",
   "execution_count": 15,
   "id": "0494972f",
   "metadata": {},
   "outputs": [],
   "source": [
    "cat=df.select_dtypes(exclude=np.number).columns"
   ]
  },
  {
   "cell_type": "markdown",
   "id": "50482d86",
   "metadata": {},
   "source": [
    "# Bivariate Analysis with Target Variable"
   ]
  },
  {
   "cell_type": "code",
   "execution_count": 16,
   "id": "9bd515e3",
   "metadata": {},
   "outputs": [
    {
     "data": {
      "image/png": "[encoded data removed]",
      "text/plain": [
       "<Figure size 1008x1008 with 6 Axes>"
      ]
     },
     "metadata": {
      "needs_background": "light"
     },
     "output_type": "display_data"
    }
   ],
   "source": [
    "cols=cat[:6]\n",
    "a = 3\n",
    "b = 2\n",
    "counter = 1\n",
    "plt.figure(figsize = [14, 14])\n",
    "for i in cols:\n",
    "    plt.subplot(a,b,counter)\n",
    "    plt.title(i)\n",
    "    sns.countplot(x=df[i],hue=df['is_promoted'])\n",
    "    counter = counter+1\n",
    "    plt.xticks(rotation=90)    \n",
    "plt.tight_layout()\n",
    "plt.show()  "
   ]
  },
  {
   "cell_type": "code",
   "execution_count": 17,
   "id": "f861ea09",
   "metadata": {},
   "outputs": [
    {
     "data": {
      "image/png": "[encoded data removed]",
      "text/plain": [
       "<Figure size 1008x1008 with 6 Axes>"
      ]
     },
     "metadata": {
      "needs_background": "light"
     },
     "output_type": "display_data"
    }
   ],
   "source": [
    "cols=cat[6:12]\n",
    "a = 3\n",
    "b = 2\n",
    "counter = 1\n",
    "plt.figure(figsize = [14, 14])\n",
    "for i in cols:\n",
    "    plt.subplot(a,b,counter)\n",
    "    plt.title(i)\n",
    "    sns.countplot(x=df[i],hue=df['is_promoted'])\n",
    "    counter = counter+1\n",
    "    plt.xticks(rotation=90)    \n",
    "plt.tight_layout()\n",
    "plt.show()  "
   ]
  },
  {
   "cell_type": "raw",
   "id": "99b68da8",
   "metadata": {},
   "source": [
    "#Inference -\n",
    "***Sales and Marketing people were got promoted the most .\n",
    "***Region_2 and Region_22 people were got promoted the most .\n",
    "***People with Education Degree as Bachelors got high promotion\n",
    "***Males got promoted the most .\n",
    "***People who got job from Other Sources got more recruitment.\n",
    "***People who met there KPI have got more promotion.\n",
    "***People between the age group from 22 to 41 got promoted.\n",
    "***People with Lenth of service between from 1 to 9 got promoted.\n",
    "***People who didnt won award got promoted."
   ]
  },
  {
   "cell_type": "code",
   "execution_count": 18,
   "id": "468987ab",
   "metadata": {},
   "outputs": [
    {
     "data": {
      "text/plain": [
       "<AxesSubplot:xlabel='department'>"
      ]
     },
     "execution_count": 18,
     "metadata": {},
     "output_type": "execute_result"
    },
    {
     "data": {
      "image/png": "[encoded data removed]",
      "text/plain": [
       "<Figure size 432x288 with 1 Axes>"
      ]
     },
     "metadata": {
      "needs_background": "light"
     },
     "output_type": "display_data"
    }
   ],
   "source": [
    "(pd.crosstab(df['department'],df['is_promoted'],normalize='columns')*100).plot(kind='bar')"
   ]
  },
  {
   "cell_type": "code",
   "execution_count": 19,
   "id": "94fea5c5",
   "metadata": {},
   "outputs": [
    {
     "data": {
      "image/png": "[encoded data removed]",
      "text/plain": [
       "<Figure size 432x288 with 1 Axes>"
      ]
     },
     "metadata": {},
     "output_type": "display_data"
    }
   ],
   "source": [
    "x=df['department'].value_counts()\n",
    "plt.pie(x,labels=x.index,autopct='%0.2f',shadow=True)\n",
    "plt.show()\n",
    "#highest People are from Sales and Marketing"
   ]
  },
  {
   "cell_type": "code",
   "execution_count": 20,
   "id": "7d5b068e",
   "metadata": {},
   "outputs": [
    {
     "data": {
      "text/plain": [
       "<AxesSubplot:xlabel='region'>"
      ]
     },
     "execution_count": 20,
     "metadata": {},
     "output_type": "execute_result"
    },
    {
     "data": {
      "image/png": "[encoded data removed]",
      "text/plain": [
       "<Figure size 432x288 with 1 Axes>"
      ]
     },
     "metadata": {
      "needs_background": "light"
     },
     "output_type": "display_data"
    }
   ],
   "source": [
    "(pd.crosstab(df['region'],df['is_promoted'],normalize='columns')*100).plot(kind='bar')"
   ]
  },
  {
   "cell_type": "code",
   "execution_count": 21,
   "id": "8bc3966b",
   "metadata": {},
   "outputs": [
    {
     "data": {
      "image/png": "[encoded data removed]",
      "text/plain": [
       "<Figure size 432x288 with 1 Axes>"
      ]
     },
     "metadata": {},
     "output_type": "display_data"
    }
   ],
   "source": [
    "x=df['region'].value_counts()\n",
    "plt.pie(x,labels=x.index,autopct='%0.2f',shadow=True)\n",
    "plt.show()"
   ]
  },
  {
   "cell_type": "code",
   "execution_count": 22,
   "id": "d42627b8",
   "metadata": {},
   "outputs": [
    {
     "data": {
      "text/plain": [
       "<AxesSubplot:xlabel='no_of_trainings'>"
      ]
     },
     "execution_count": 22,
     "metadata": {},
     "output_type": "execute_result"
    },
    {
     "data": {
      "image/png": "[encoded data removed]",
      "text/plain": [
       "<Figure size 432x288 with 1 Axes>"
      ]
     },
     "metadata": {
      "needs_background": "light"
     },
     "output_type": "display_data"
    }
   ],
   "source": [
    "(pd.crosstab(df['no_of_trainings'],df['is_promoted'],normalize=True)*100).plot(kind='bar')\n",
    "#people with 1 training got promoted the most ."
   ]
  },
  {
   "cell_type": "code",
   "execution_count": 23,
   "id": "07bd081c",
   "metadata": {},
   "outputs": [
    {
     "data": {
      "image/png": "[encoded data removed]",
      "text/plain": [
       "<Figure size 432x288 with 1 Axes>"
      ]
     },
     "metadata": {},
     "output_type": "display_data"
    }
   ],
   "source": [
    "x=df['no_of_trainings'].value_counts()\n",
    "plt.pie(x,labels=x.index,autopct='%0.2f',shadow=True)\n",
    "plt.show()"
   ]
  },
  {
   "cell_type": "code",
   "execution_count": 24,
   "id": "5144d394",
   "metadata": {},
   "outputs": [],
   "source": [
    "df['Train_score']=df['no_of_trainings'] * df['avg_training_score']"
   ]
  },
  {
   "cell_type": "code",
   "execution_count": 25,
   "id": "4058e07a",
   "metadata": {},
   "outputs": [
    {
     "data": {
      "text/plain": [
       "(39, 79.77063567362428, 710)"
      ]
     },
     "execution_count": 25,
     "metadata": {},
     "output_type": "execute_result"
    }
   ],
   "source": [
    "#finding the min ,medium score and max score  \n",
    "df['Train_score'].min(),df['Train_score'].mean(),df['Train_score'].max()"
   ]
  },
  {
   "cell_type": "code",
   "execution_count": 26,
   "id": "b3072bfd",
   "metadata": {},
   "outputs": [],
   "source": [
    "df['Train_score_l']=pd.cut(df['Train_score'],bins=[0,60,150,800],labels=['l','m','h'])"
   ]
  },
  {
   "cell_type": "code",
   "execution_count": 27,
   "id": "830b4df0",
   "metadata": {},
   "outputs": [
    {
     "data": {
      "text/plain": [
       "50     2204\n",
       "49     2203\n",
       "48     1995\n",
       "51     1942\n",
       "59     1798\n",
       "       ... \n",
       "322       1\n",
       "305       1\n",
       "194       1\n",
       "123       1\n",
       "710       1\n",
       "Name: Train_score, Length: 246, dtype: int64"
      ]
     },
     "execution_count": 27,
     "metadata": {},
     "output_type": "execute_result"
    }
   ],
   "source": [
    "df['Train_score'].value_counts()"
   ]
  },
  {
   "cell_type": "code",
   "execution_count": 28,
   "id": "74182e60",
   "metadata": {},
   "outputs": [
    {
     "data": {
      "text/plain": [
       "<AxesSubplot:xlabel='Train_score_l'>"
      ]
     },
     "execution_count": 28,
     "metadata": {},
     "output_type": "execute_result"
    },
    {
     "data": {
      "image/png": "[encoded data removed]",
      "text/plain": [
       "<Figure size 432x288 with 1 Axes>"
      ]
     },
     "metadata": {
      "needs_background": "light"
     },
     "output_type": "display_data"
    }
   ],
   "source": [
    "(pd.crosstab(df['Train_score_l'],df['is_promoted'],normalize=True)*100).plot(kind='bar')\n",
    "#people with more Medium Score got promoted more "
   ]
  },
  {
   "cell_type": "code",
   "execution_count": 29,
   "id": "6fda9957",
   "metadata": {},
   "outputs": [
    {
     "data": {
      "text/plain": [
       "(20, 34.80391548679025, 60)"
      ]
     },
     "execution_count": 29,
     "metadata": {},
     "output_type": "execute_result"
    }
   ],
   "source": [
    "df['age'].min(),df['age'].mean(),df['age'].max()"
   ]
  },
  {
   "cell_type": "code",
   "execution_count": 30,
   "id": "c1469ed8",
   "metadata": {},
   "outputs": [],
   "source": [
    "df['age_l']=pd.cut(df['age'],bins=[20,30,40,62],labels=['Beginner','middle','older'])"
   ]
  },
  {
   "cell_type": "code",
   "execution_count": 31,
   "id": "b91ecc39",
   "metadata": {},
   "outputs": [
    {
     "data": {
      "text/plain": [
       "<AxesSubplot:xlabel='age_l'>"
      ]
     },
     "execution_count": 31,
     "metadata": {},
     "output_type": "execute_result"
    },
    {
     "data": {
      "image/png": "[encoded data removed]",
      "text/plain": [
       "<Figure size 432x288 with 1 Axes>"
      ]
     },
     "metadata": {
      "needs_background": "light"
     },
     "output_type": "display_data"
    }
   ],
   "source": [
    "(pd.crosstab(df['age_l'],df['is_promoted'],normalize=True)*100).plot(kind='bar')\n",
    "#Beginner and Middle age  got promoted more "
   ]
  },
  {
   "cell_type": "code",
   "execution_count": 32,
   "id": "ad9ebe05",
   "metadata": {},
   "outputs": [
    {
     "data": {
      "image/png": "[encoded data removed]",
      "text/plain": [
       "<Figure size 432x288 with 1 Axes>"
      ]
     },
     "metadata": {
      "needs_background": "light"
     },
     "output_type": "display_data"
    }
   ],
   "source": [
    "(pd.crosstab(df['previous_year_rating'],df['is_promoted'],normalize='columns')*100).plot(kind='bar')\n",
    "\n",
    "def check_rat(x):\n",
    "    if x==0:\n",
    "        return 'bad'\n",
    "    elif x==1:\n",
    "        return 'lower'\n",
    "    elif x==2 :\n",
    "        return 'low'\n",
    "    elif x==3 :\n",
    "        return 'medium'\n",
    "    elif x==4 :\n",
    "        return 'good'\n",
    "    elif x==5 :\n",
    "        return 'great'"
   ]
  },
  {
   "cell_type": "code",
   "execution_count": 33,
   "id": "798cd077",
   "metadata": {},
   "outputs": [
    {
     "data": {
      "text/plain": [
       "<AxesSubplot:xlabel='previous_year_rating_l'>"
      ]
     },
     "execution_count": 33,
     "metadata": {},
     "output_type": "execute_result"
    },
    {
     "data": {
      "image/png": "[encoded data removed]",
      "text/plain": [
       "<Figure size 432x288 with 1 Axes>"
      ]
     },
     "metadata": {
      "needs_background": "light"
     },
     "output_type": "display_data"
    }
   ],
   "source": [
    "df['previous_year_rating_l']=df['previous_year_rating'].apply(check_rat)\n",
    "(pd.crosstab(df['previous_year_rating_l'],df['is_promoted'],normalize='columns')*100).plot(kind='bar')\n",
    "#people with high rating have promoted the most "
   ]
  },
  {
   "cell_type": "code",
   "execution_count": 34,
   "id": "b79df2ff",
   "metadata": {},
   "outputs": [],
   "source": [
    "def depar(x):\n",
    "    if (x=='Sales & Marketing')  or (x=='Operations') or (x=='Technology') :\n",
    "        return 'yes'\n",
    "    else :\n",
    "        return 'no'\n",
    "    \n",
    "df['department_new']=df['department'].apply(depar)    "
   ]
  },
  {
   "cell_type": "code",
   "execution_count": 35,
   "id": "0711cfd7",
   "metadata": {},
   "outputs": [],
   "source": [
    "def region_check(x):\n",
    "    if (x=='region_2')  or (x=='region_22') or (x=='region_7') :\n",
    "        return 'yes'\n",
    "    else :\n",
    "        return 'no'\n",
    "df['region_new']=df['region'].apply(region_check)    "
   ]
  },
  {
   "cell_type": "code",
   "execution_count": 36,
   "id": "de6a2d99",
   "metadata": {},
   "outputs": [],
   "source": [
    "def edu(x):\n",
    "    if (x==\"Bachelor's\")   :\n",
    "        return 'yes'\n",
    "    else :\n",
    "        return 'no'\n",
    "df['education_new']=df['education'].apply(edu)\n",
    " "
   ]
  },
  {
   "cell_type": "code",
   "execution_count": 37,
   "id": "cbfecb22",
   "metadata": {},
   "outputs": [],
   "source": [
    "def age_(x):\n",
    "    if (x >26) & (x<36)   :\n",
    "        return 'yes'\n",
    "    else :\n",
    "        return 'no'\n",
    "df['age_new']=df['age'].apply(age_)    "
   ]
  },
  {
   "cell_type": "code",
   "execution_count": 38,
   "id": "d949438d",
   "metadata": {},
   "outputs": [],
   "source": [
    "def rat(x):\n",
    "    if (x <3)   :\n",
    "        return 'yes'\n",
    "    else :\n",
    "        return 'no'\n",
    "df['previous_year_rating_new']=df['previous_year_rating'].apply(rat)    "
   ]
  },
  {
   "cell_type": "code",
   "execution_count": 39,
   "id": "7a13b99f",
   "metadata": {},
   "outputs": [],
   "source": [
    "def ser(x):\n",
    "    if (x >1) & (x<9)   :\n",
    "        return 'yes'\n",
    "    else :\n",
    "        return 'no'\n",
    "df['length_of_service_new']=df['length_of_service'].apply(ser)  "
   ]
  },
  {
   "cell_type": "code",
   "execution_count": 40,
   "id": "3969bb96",
   "metadata": {},
   "outputs": [],
   "source": [
    "def avg_train(x):\n",
    "    if x >60   :\n",
    "        return 'yes'\n",
    "    else :\n",
    "        return 'no'\n",
    "df['avg_training_score_new']=df['avg_training_score'].apply(avg_train)  "
   ]
  },
  {
   "cell_type": "code",
   "execution_count": 41,
   "id": "cf170672",
   "metadata": {},
   "outputs": [],
   "source": [
    "def train_scor(x):\n",
    "    if x==1 :\n",
    "        return 'yes'\n",
    "    else :\n",
    "        return 'no'\n",
    "    \n",
    "df['train__score']=df['no_of_trainings'].apply(train_scor)   \n"
   ]
  },
  {
   "cell_type": "code",
   "execution_count": 42,
   "id": "3bfbd56f",
   "metadata": {},
   "outputs": [
    {
     "data": {
      "text/html": [
       "<div>\n",
       "<style scoped>\n",
       "    .dataframe tbody tr th:only-of-type {\n",
       "        vertical-align: middle;\n",
       "    }\n",
       "\n",
       "    .dataframe tbody tr th {\n",
       "        vertical-align: top;\n",
       "    }\n",
       "\n",
       "    .dataframe thead th {\n",
       "        text-align: right;\n",
       "    }\n",
       "</style>\n",
       "<table border=\"1\" class=\"dataframe\">\n",
       "  <thead>\n",
       "    <tr style=\"text-align: right;\">\n",
       "      <th></th>\n",
       "      <th>department</th>\n",
       "      <th>region</th>\n",
       "      <th>education</th>\n",
       "      <th>gender</th>\n",
       "      <th>recruitment_channel</th>\n",
       "      <th>no_of_trainings</th>\n",
       "      <th>age</th>\n",
       "      <th>previous_year_rating</th>\n",
       "      <th>length_of_service</th>\n",
       "      <th>KPIs_met &gt;80%</th>\n",
       "      <th>...</th>\n",
       "      <th>age_l</th>\n",
       "      <th>previous_year_rating_l</th>\n",
       "      <th>department_new</th>\n",
       "      <th>region_new</th>\n",
       "      <th>education_new</th>\n",
       "      <th>age_new</th>\n",
       "      <th>previous_year_rating_new</th>\n",
       "      <th>length_of_service_new</th>\n",
       "      <th>avg_training_score_new</th>\n",
       "      <th>train__score</th>\n",
       "    </tr>\n",
       "    <tr>\n",
       "      <th>employee_id</th>\n",
       "      <th></th>\n",
       "      <th></th>\n",
       "      <th></th>\n",
       "      <th></th>\n",
       "      <th></th>\n",
       "      <th></th>\n",
       "      <th></th>\n",
       "      <th></th>\n",
       "      <th></th>\n",
       "      <th></th>\n",
       "      <th></th>\n",
       "      <th></th>\n",
       "      <th></th>\n",
       "      <th></th>\n",
       "      <th></th>\n",
       "      <th></th>\n",
       "      <th></th>\n",
       "      <th></th>\n",
       "      <th></th>\n",
       "      <th></th>\n",
       "      <th></th>\n",
       "    </tr>\n",
       "  </thead>\n",
       "  <tbody>\n",
       "    <tr>\n",
       "      <th>65438</th>\n",
       "      <td>Sales &amp; Marketing</td>\n",
       "      <td>region_7</td>\n",
       "      <td>Master's &amp; above</td>\n",
       "      <td>f</td>\n",
       "      <td>sourcing</td>\n",
       "      <td>1</td>\n",
       "      <td>35</td>\n",
       "      <td>5.0</td>\n",
       "      <td>8</td>\n",
       "      <td>1</td>\n",
       "      <td>...</td>\n",
       "      <td>middle</td>\n",
       "      <td>great</td>\n",
       "      <td>yes</td>\n",
       "      <td>yes</td>\n",
       "      <td>no</td>\n",
       "      <td>yes</td>\n",
       "      <td>no</td>\n",
       "      <td>yes</td>\n",
       "      <td>no</td>\n",
       "      <td>yes</td>\n",
       "    </tr>\n",
       "    <tr>\n",
       "      <th>65141</th>\n",
       "      <td>Operations</td>\n",
       "      <td>region_22</td>\n",
       "      <td>Bachelor's</td>\n",
       "      <td>m</td>\n",
       "      <td>other</td>\n",
       "      <td>1</td>\n",
       "      <td>30</td>\n",
       "      <td>5.0</td>\n",
       "      <td>4</td>\n",
       "      <td>0</td>\n",
       "      <td>...</td>\n",
       "      <td>Beginner</td>\n",
       "      <td>great</td>\n",
       "      <td>yes</td>\n",
       "      <td>yes</td>\n",
       "      <td>yes</td>\n",
       "      <td>yes</td>\n",
       "      <td>no</td>\n",
       "      <td>yes</td>\n",
       "      <td>no</td>\n",
       "      <td>yes</td>\n",
       "    </tr>\n",
       "    <tr>\n",
       "      <th>7513</th>\n",
       "      <td>Sales &amp; Marketing</td>\n",
       "      <td>region_19</td>\n",
       "      <td>Bachelor's</td>\n",
       "      <td>m</td>\n",
       "      <td>sourcing</td>\n",
       "      <td>1</td>\n",
       "      <td>34</td>\n",
       "      <td>3.0</td>\n",
       "      <td>7</td>\n",
       "      <td>0</td>\n",
       "      <td>...</td>\n",
       "      <td>middle</td>\n",
       "      <td>medium</td>\n",
       "      <td>yes</td>\n",
       "      <td>no</td>\n",
       "      <td>yes</td>\n",
       "      <td>yes</td>\n",
       "      <td>no</td>\n",
       "      <td>yes</td>\n",
       "      <td>no</td>\n",
       "      <td>yes</td>\n",
       "    </tr>\n",
       "    <tr>\n",
       "      <th>2542</th>\n",
       "      <td>Sales &amp; Marketing</td>\n",
       "      <td>region_23</td>\n",
       "      <td>Bachelor's</td>\n",
       "      <td>m</td>\n",
       "      <td>other</td>\n",
       "      <td>2</td>\n",
       "      <td>39</td>\n",
       "      <td>1.0</td>\n",
       "      <td>10</td>\n",
       "      <td>0</td>\n",
       "      <td>...</td>\n",
       "      <td>middle</td>\n",
       "      <td>lower</td>\n",
       "      <td>yes</td>\n",
       "      <td>no</td>\n",
       "      <td>yes</td>\n",
       "      <td>no</td>\n",
       "      <td>yes</td>\n",
       "      <td>no</td>\n",
       "      <td>no</td>\n",
       "      <td>no</td>\n",
       "    </tr>\n",
       "    <tr>\n",
       "      <th>48945</th>\n",
       "      <td>Technology</td>\n",
       "      <td>region_26</td>\n",
       "      <td>Bachelor's</td>\n",
       "      <td>m</td>\n",
       "      <td>other</td>\n",
       "      <td>1</td>\n",
       "      <td>45</td>\n",
       "      <td>3.0</td>\n",
       "      <td>2</td>\n",
       "      <td>0</td>\n",
       "      <td>...</td>\n",
       "      <td>older</td>\n",
       "      <td>medium</td>\n",
       "      <td>yes</td>\n",
       "      <td>no</td>\n",
       "      <td>yes</td>\n",
       "      <td>no</td>\n",
       "      <td>no</td>\n",
       "      <td>yes</td>\n",
       "      <td>yes</td>\n",
       "      <td>yes</td>\n",
       "    </tr>\n",
       "    <tr>\n",
       "      <th>...</th>\n",
       "      <td>...</td>\n",
       "      <td>...</td>\n",
       "      <td>...</td>\n",
       "      <td>...</td>\n",
       "      <td>...</td>\n",
       "      <td>...</td>\n",
       "      <td>...</td>\n",
       "      <td>...</td>\n",
       "      <td>...</td>\n",
       "      <td>...</td>\n",
       "      <td>...</td>\n",
       "      <td>...</td>\n",
       "      <td>...</td>\n",
       "      <td>...</td>\n",
       "      <td>...</td>\n",
       "      <td>...</td>\n",
       "      <td>...</td>\n",
       "      <td>...</td>\n",
       "      <td>...</td>\n",
       "      <td>...</td>\n",
       "      <td>...</td>\n",
       "    </tr>\n",
       "    <tr>\n",
       "      <th>3030</th>\n",
       "      <td>Technology</td>\n",
       "      <td>region_14</td>\n",
       "      <td>Bachelor's</td>\n",
       "      <td>m</td>\n",
       "      <td>sourcing</td>\n",
       "      <td>1</td>\n",
       "      <td>48</td>\n",
       "      <td>3.0</td>\n",
       "      <td>17</td>\n",
       "      <td>0</td>\n",
       "      <td>...</td>\n",
       "      <td>older</td>\n",
       "      <td>medium</td>\n",
       "      <td>yes</td>\n",
       "      <td>no</td>\n",
       "      <td>yes</td>\n",
       "      <td>no</td>\n",
       "      <td>no</td>\n",
       "      <td>no</td>\n",
       "      <td>yes</td>\n",
       "      <td>yes</td>\n",
       "    </tr>\n",
       "    <tr>\n",
       "      <th>74592</th>\n",
       "      <td>Operations</td>\n",
       "      <td>region_27</td>\n",
       "      <td>Master's &amp; above</td>\n",
       "      <td>f</td>\n",
       "      <td>other</td>\n",
       "      <td>1</td>\n",
       "      <td>37</td>\n",
       "      <td>2.0</td>\n",
       "      <td>6</td>\n",
       "      <td>0</td>\n",
       "      <td>...</td>\n",
       "      <td>middle</td>\n",
       "      <td>low</td>\n",
       "      <td>yes</td>\n",
       "      <td>no</td>\n",
       "      <td>no</td>\n",
       "      <td>no</td>\n",
       "      <td>yes</td>\n",
       "      <td>yes</td>\n",
       "      <td>no</td>\n",
       "      <td>yes</td>\n",
       "    </tr>\n",
       "    <tr>\n",
       "      <th>13918</th>\n",
       "      <td>Analytics</td>\n",
       "      <td>region_1</td>\n",
       "      <td>Bachelor's</td>\n",
       "      <td>m</td>\n",
       "      <td>other</td>\n",
       "      <td>1</td>\n",
       "      <td>27</td>\n",
       "      <td>5.0</td>\n",
       "      <td>3</td>\n",
       "      <td>1</td>\n",
       "      <td>...</td>\n",
       "      <td>Beginner</td>\n",
       "      <td>great</td>\n",
       "      <td>no</td>\n",
       "      <td>no</td>\n",
       "      <td>yes</td>\n",
       "      <td>yes</td>\n",
       "      <td>no</td>\n",
       "      <td>yes</td>\n",
       "      <td>yes</td>\n",
       "      <td>yes</td>\n",
       "    </tr>\n",
       "    <tr>\n",
       "      <th>13614</th>\n",
       "      <td>Sales &amp; Marketing</td>\n",
       "      <td>region_9</td>\n",
       "      <td>Bachelor's</td>\n",
       "      <td>m</td>\n",
       "      <td>sourcing</td>\n",
       "      <td>1</td>\n",
       "      <td>29</td>\n",
       "      <td>1.0</td>\n",
       "      <td>2</td>\n",
       "      <td>0</td>\n",
       "      <td>...</td>\n",
       "      <td>Beginner</td>\n",
       "      <td>lower</td>\n",
       "      <td>yes</td>\n",
       "      <td>no</td>\n",
       "      <td>yes</td>\n",
       "      <td>yes</td>\n",
       "      <td>yes</td>\n",
       "      <td>yes</td>\n",
       "      <td>no</td>\n",
       "      <td>yes</td>\n",
       "    </tr>\n",
       "    <tr>\n",
       "      <th>51526</th>\n",
       "      <td>HR</td>\n",
       "      <td>region_22</td>\n",
       "      <td>Bachelor's</td>\n",
       "      <td>m</td>\n",
       "      <td>other</td>\n",
       "      <td>1</td>\n",
       "      <td>27</td>\n",
       "      <td>1.0</td>\n",
       "      <td>5</td>\n",
       "      <td>0</td>\n",
       "      <td>...</td>\n",
       "      <td>Beginner</td>\n",
       "      <td>lower</td>\n",
       "      <td>no</td>\n",
       "      <td>yes</td>\n",
       "      <td>yes</td>\n",
       "      <td>yes</td>\n",
       "      <td>yes</td>\n",
       "      <td>yes</td>\n",
       "      <td>no</td>\n",
       "      <td>yes</td>\n",
       "    </tr>\n",
       "  </tbody>\n",
       "</table>\n",
       "<p>54808 rows × 25 columns</p>\n",
       "</div>"
      ],
      "text/plain": [
       "                    department     region         education gender  \\\n",
       "employee_id                                                          \n",
       "65438        Sales & Marketing   region_7  Master's & above      f   \n",
       "65141               Operations  region_22        Bachelor's      m   \n",
       "7513         Sales & Marketing  region_19        Bachelor's      m   \n",
       "2542         Sales & Marketing  region_23        Bachelor's      m   \n",
       "48945               Technology  region_26        Bachelor's      m   \n",
       "...                        ...        ...               ...    ...   \n",
       "3030                Technology  region_14        Bachelor's      m   \n",
       "74592               Operations  region_27  Master's & above      f   \n",
       "13918                Analytics   region_1        Bachelor's      m   \n",
       "13614        Sales & Marketing   region_9        Bachelor's      m   \n",
       "51526                       HR  region_22        Bachelor's      m   \n",
       "\n",
       "            recruitment_channel no_of_trainings age previous_year_rating  \\\n",
       "employee_id                                                                \n",
       "65438                  sourcing               1  35                  5.0   \n",
       "65141                     other               1  30                  5.0   \n",
       "7513                   sourcing               1  34                  3.0   \n",
       "2542                      other               2  39                  1.0   \n",
       "48945                     other               1  45                  3.0   \n",
       "...                         ...             ...  ..                  ...   \n",
       "3030                   sourcing               1  48                  3.0   \n",
       "74592                     other               1  37                  2.0   \n",
       "13918                     other               1  27                  5.0   \n",
       "13614                  sourcing               1  29                  1.0   \n",
       "51526                     other               1  27                  1.0   \n",
       "\n",
       "            length_of_service KPIs_met >80%  ...     age_l  \\\n",
       "employee_id                                  ...             \n",
       "65438                       8             1  ...    middle   \n",
       "65141                       4             0  ...  Beginner   \n",
       "7513                        7             0  ...    middle   \n",
       "2542                       10             0  ...    middle   \n",
       "48945                       2             0  ...     older   \n",
       "...                       ...           ...  ...       ...   \n",
       "3030                       17             0  ...     older   \n",
       "74592                       6             0  ...    middle   \n",
       "13918                       3             1  ...  Beginner   \n",
       "13614                       2             0  ...  Beginner   \n",
       "51526                       5             0  ...  Beginner   \n",
       "\n",
       "            previous_year_rating_l  department_new region_new education_new  \\\n",
       "employee_id                                                                   \n",
       "65438                        great             yes        yes            no   \n",
       "65141                        great             yes        yes           yes   \n",
       "7513                        medium             yes         no           yes   \n",
       "2542                         lower             yes         no           yes   \n",
       "48945                       medium             yes         no           yes   \n",
       "...                            ...             ...        ...           ...   \n",
       "3030                        medium             yes         no           yes   \n",
       "74592                          low             yes         no            no   \n",
       "13918                        great              no         no           yes   \n",
       "13614                        lower             yes         no           yes   \n",
       "51526                        lower              no        yes           yes   \n",
       "\n",
       "            age_new previous_year_rating_new length_of_service_new  \\\n",
       "employee_id                                                          \n",
       "65438           yes                       no                   yes   \n",
       "65141           yes                       no                   yes   \n",
       "7513            yes                       no                   yes   \n",
       "2542             no                      yes                    no   \n",
       "48945            no                       no                   yes   \n",
       "...             ...                      ...                   ...   \n",
       "3030             no                       no                    no   \n",
       "74592            no                      yes                   yes   \n",
       "13918           yes                       no                   yes   \n",
       "13614           yes                      yes                   yes   \n",
       "51526           yes                      yes                   yes   \n",
       "\n",
       "            avg_training_score_new train__score  \n",
       "employee_id                                      \n",
       "65438                           no          yes  \n",
       "65141                           no          yes  \n",
       "7513                            no          yes  \n",
       "2542                            no           no  \n",
       "48945                          yes          yes  \n",
       "...                            ...          ...  \n",
       "3030                           yes          yes  \n",
       "74592                           no          yes  \n",
       "13918                          yes          yes  \n",
       "13614                           no          yes  \n",
       "51526                           no          yes  \n",
       "\n",
       "[54808 rows x 25 columns]"
      ]
     },
     "execution_count": 42,
     "metadata": {},
     "output_type": "execute_result"
    }
   ],
   "source": [
    "df"
   ]
  },
  {
   "cell_type": "code",
   "execution_count": 43,
   "id": "3f0deed5",
   "metadata": {},
   "outputs": [
    {
     "data": {
      "text/plain": [
       "Index(['department', 'region', 'education', 'gender', 'recruitment_channel',\n",
       "       'no_of_trainings', 'age', 'previous_year_rating', 'length_of_service',\n",
       "       'KPIs_met >80%', 'awards_won?', 'avg_training_score', 'is_promoted',\n",
       "       'Train_score', 'Train_score_l', 'age_l', 'previous_year_rating_l',\n",
       "       'department_new', 'region_new', 'education_new', 'age_new',\n",
       "       'previous_year_rating_new', 'length_of_service_new',\n",
       "       'avg_training_score_new', 'train__score'],\n",
       "      dtype='object')"
      ]
     },
     "execution_count": 43,
     "metadata": {},
     "output_type": "execute_result"
    }
   ],
   "source": [
    "df.columns"
   ]
  },
  {
   "cell_type": "code",
   "execution_count": 44,
   "id": "5a341289",
   "metadata": {},
   "outputs": [],
   "source": [
    "from sklearn.preprocessing import LabelEncoder\n",
    "le=LabelEncoder()\n",
    "df['department']=le.fit_transform(df['department'])\n",
    "df['region']=le.fit_transform(df['region'])\n",
    "df['recruitment_channel']=le.fit_transform(df['recruitment_channel'])\n",
    "df['education']=le.fit_transform(df['education'])"
   ]
  },
  {
   "cell_type": "code",
   "execution_count": 45,
   "id": "e0a80e4d",
   "metadata": {},
   "outputs": [],
   "source": [
    "df['gender']=pd.get_dummies(df['gender'],drop_first=True)"
   ]
  },
  {
   "cell_type": "code",
   "execution_count": 46,
   "id": "39aaa055",
   "metadata": {},
   "outputs": [],
   "source": [
    "df['age_l']=pd.cut(df['age'],bins=[20,30,40,62],labels=['20','30','40'])\n"
   ]
  },
  {
   "cell_type": "code",
   "execution_count": 47,
   "id": "d0091b22",
   "metadata": {},
   "outputs": [
    {
     "data": {
      "text/plain": [
       "Index(['department', 'region', 'education', 'gender', 'recruitment_channel',\n",
       "       'no_of_trainings', 'age', 'previous_year_rating', 'length_of_service',\n",
       "       'KPIs_met >80%', 'awards_won?', 'avg_training_score', 'is_promoted',\n",
       "       'Train_score', 'Train_score_l', 'age_l', 'previous_year_rating_l',\n",
       "       'department_new', 'region_new', 'education_new', 'age_new',\n",
       "       'previous_year_rating_new', 'length_of_service_new',\n",
       "       'avg_training_score_new', 'train__score'],\n",
       "      dtype='object')"
      ]
     },
     "execution_count": 47,
     "metadata": {},
     "output_type": "execute_result"
    }
   ],
   "source": [
    "df.columns"
   ]
  },
  {
   "cell_type": "code",
   "execution_count": 48,
   "id": "f8fbe9e3",
   "metadata": {},
   "outputs": [],
   "source": [
    "df.drop(['Train_score_l', 'age', 'previous_year_rating_l'],axis=1,inplace=True)"
   ]
  },
  {
   "cell_type": "code",
   "execution_count": 49,
   "id": "b5d192b2",
   "metadata": {},
   "outputs": [
    {
     "name": "stdout",
     "output_type": "stream",
     "text": [
      "<class 'pandas.core.frame.DataFrame'>\n",
      "Int64Index: 54808 entries, 65438 to 51526\n",
      "Data columns (total 22 columns):\n",
      " #   Column                    Non-Null Count  Dtype   \n",
      "---  ------                    --------------  -----   \n",
      " 0   department                54808 non-null  int32   \n",
      " 1   region                    54808 non-null  int32   \n",
      " 2   education                 54808 non-null  int32   \n",
      " 3   gender                    54808 non-null  uint8   \n",
      " 4   recruitment_channel       54808 non-null  int32   \n",
      " 5   no_of_trainings           54808 non-null  object  \n",
      " 6   previous_year_rating      54808 non-null  object  \n",
      " 7   length_of_service         54808 non-null  object  \n",
      " 8   KPIs_met >80%             54808 non-null  object  \n",
      " 9   awards_won?               54808 non-null  object  \n",
      " 10  avg_training_score        54808 non-null  object  \n",
      " 11  is_promoted               54808 non-null  int64   \n",
      " 12  Train_score               54808 non-null  object  \n",
      " 13  age_l                     54695 non-null  category\n",
      " 14  department_new            54808 non-null  object  \n",
      " 15  region_new                54808 non-null  object  \n",
      " 16  education_new             54808 non-null  object  \n",
      " 17  age_new                   54808 non-null  object  \n",
      " 18  previous_year_rating_new  54808 non-null  object  \n",
      " 19  length_of_service_new     54808 non-null  object  \n",
      " 20  avg_training_score_new    54808 non-null  object  \n",
      " 21  train__score              54808 non-null  object  \n",
      "dtypes: category(1), int32(4), int64(1), object(15), uint8(1)\n",
      "memory usage: 10.1+ MB\n"
     ]
    }
   ],
   "source": [
    "df.info()"
   ]
  },
  {
   "cell_type": "code",
   "execution_count": 50,
   "id": "a5629cad",
   "metadata": {},
   "outputs": [],
   "source": [
    "df['Train_score']=pd.to_numeric(df['Train_score'])\n",
    "df['star_emp']=df[['KPIs_met >80%','awards_won?']].any(axis=1,skipna=False)\n",
    "df.star_emp = df.star_emp.apply(lambda x: 1 if x==True else 0)"
   ]
  },
  {
   "cell_type": "code",
   "execution_count": 51,
   "id": "e985bc10",
   "metadata": {},
   "outputs": [
    {
     "data": {
      "text/html": [
       "<div>\n",
       "<style scoped>\n",
       "    .dataframe tbody tr th:only-of-type {\n",
       "        vertical-align: middle;\n",
       "    }\n",
       "\n",
       "    .dataframe tbody tr th {\n",
       "        vertical-align: top;\n",
       "    }\n",
       "\n",
       "    .dataframe thead th {\n",
       "        text-align: right;\n",
       "    }\n",
       "</style>\n",
       "<table border=\"1\" class=\"dataframe\">\n",
       "  <thead>\n",
       "    <tr style=\"text-align: right;\">\n",
       "      <th></th>\n",
       "      <th>department</th>\n",
       "      <th>region</th>\n",
       "      <th>education</th>\n",
       "      <th>gender</th>\n",
       "      <th>recruitment_channel</th>\n",
       "      <th>no_of_trainings</th>\n",
       "      <th>previous_year_rating</th>\n",
       "      <th>length_of_service</th>\n",
       "      <th>KPIs_met &gt;80%</th>\n",
       "      <th>awards_won?</th>\n",
       "      <th>...</th>\n",
       "      <th>age_l</th>\n",
       "      <th>department_new</th>\n",
       "      <th>region_new</th>\n",
       "      <th>education_new</th>\n",
       "      <th>age_new</th>\n",
       "      <th>previous_year_rating_new</th>\n",
       "      <th>length_of_service_new</th>\n",
       "      <th>avg_training_score_new</th>\n",
       "      <th>train__score</th>\n",
       "      <th>star_emp</th>\n",
       "    </tr>\n",
       "    <tr>\n",
       "      <th>employee_id</th>\n",
       "      <th></th>\n",
       "      <th></th>\n",
       "      <th></th>\n",
       "      <th></th>\n",
       "      <th></th>\n",
       "      <th></th>\n",
       "      <th></th>\n",
       "      <th></th>\n",
       "      <th></th>\n",
       "      <th></th>\n",
       "      <th></th>\n",
       "      <th></th>\n",
       "      <th></th>\n",
       "      <th></th>\n",
       "      <th></th>\n",
       "      <th></th>\n",
       "      <th></th>\n",
       "      <th></th>\n",
       "      <th></th>\n",
       "      <th></th>\n",
       "      <th></th>\n",
       "    </tr>\n",
       "  </thead>\n",
       "  <tbody>\n",
       "    <tr>\n",
       "      <th>65438</th>\n",
       "      <td>7</td>\n",
       "      <td>31</td>\n",
       "      <td>2</td>\n",
       "      <td>0</td>\n",
       "      <td>2</td>\n",
       "      <td>1</td>\n",
       "      <td>5.0</td>\n",
       "      <td>8</td>\n",
       "      <td>1</td>\n",
       "      <td>0</td>\n",
       "      <td>...</td>\n",
       "      <td>30</td>\n",
       "      <td>yes</td>\n",
       "      <td>yes</td>\n",
       "      <td>no</td>\n",
       "      <td>yes</td>\n",
       "      <td>no</td>\n",
       "      <td>yes</td>\n",
       "      <td>no</td>\n",
       "      <td>yes</td>\n",
       "      <td>1</td>\n",
       "    </tr>\n",
       "    <tr>\n",
       "      <th>65141</th>\n",
       "      <td>4</td>\n",
       "      <td>14</td>\n",
       "      <td>0</td>\n",
       "      <td>1</td>\n",
       "      <td>0</td>\n",
       "      <td>1</td>\n",
       "      <td>5.0</td>\n",
       "      <td>4</td>\n",
       "      <td>0</td>\n",
       "      <td>0</td>\n",
       "      <td>...</td>\n",
       "      <td>20</td>\n",
       "      <td>yes</td>\n",
       "      <td>yes</td>\n",
       "      <td>yes</td>\n",
       "      <td>yes</td>\n",
       "      <td>no</td>\n",
       "      <td>yes</td>\n",
       "      <td>no</td>\n",
       "      <td>yes</td>\n",
       "      <td>0</td>\n",
       "    </tr>\n",
       "    <tr>\n",
       "      <th>7513</th>\n",
       "      <td>7</td>\n",
       "      <td>10</td>\n",
       "      <td>0</td>\n",
       "      <td>1</td>\n",
       "      <td>2</td>\n",
       "      <td>1</td>\n",
       "      <td>3.0</td>\n",
       "      <td>7</td>\n",
       "      <td>0</td>\n",
       "      <td>0</td>\n",
       "      <td>...</td>\n",
       "      <td>30</td>\n",
       "      <td>yes</td>\n",
       "      <td>no</td>\n",
       "      <td>yes</td>\n",
       "      <td>yes</td>\n",
       "      <td>no</td>\n",
       "      <td>yes</td>\n",
       "      <td>no</td>\n",
       "      <td>yes</td>\n",
       "      <td>0</td>\n",
       "    </tr>\n",
       "    <tr>\n",
       "      <th>2542</th>\n",
       "      <td>7</td>\n",
       "      <td>15</td>\n",
       "      <td>0</td>\n",
       "      <td>1</td>\n",
       "      <td>0</td>\n",
       "      <td>2</td>\n",
       "      <td>1.0</td>\n",
       "      <td>10</td>\n",
       "      <td>0</td>\n",
       "      <td>0</td>\n",
       "      <td>...</td>\n",
       "      <td>30</td>\n",
       "      <td>yes</td>\n",
       "      <td>no</td>\n",
       "      <td>yes</td>\n",
       "      <td>no</td>\n",
       "      <td>yes</td>\n",
       "      <td>no</td>\n",
       "      <td>no</td>\n",
       "      <td>no</td>\n",
       "      <td>0</td>\n",
       "    </tr>\n",
       "    <tr>\n",
       "      <th>48945</th>\n",
       "      <td>8</td>\n",
       "      <td>18</td>\n",
       "      <td>0</td>\n",
       "      <td>1</td>\n",
       "      <td>0</td>\n",
       "      <td>1</td>\n",
       "      <td>3.0</td>\n",
       "      <td>2</td>\n",
       "      <td>0</td>\n",
       "      <td>0</td>\n",
       "      <td>...</td>\n",
       "      <td>40</td>\n",
       "      <td>yes</td>\n",
       "      <td>no</td>\n",
       "      <td>yes</td>\n",
       "      <td>no</td>\n",
       "      <td>no</td>\n",
       "      <td>yes</td>\n",
       "      <td>yes</td>\n",
       "      <td>yes</td>\n",
       "      <td>0</td>\n",
       "    </tr>\n",
       "  </tbody>\n",
       "</table>\n",
       "<p>5 rows × 23 columns</p>\n",
       "</div>"
      ],
      "text/plain": [
       "             department  region  education  gender  recruitment_channel  \\\n",
       "employee_id                                                               \n",
       "65438                 7      31          2       0                    2   \n",
       "65141                 4      14          0       1                    0   \n",
       "7513                  7      10          0       1                    2   \n",
       "2542                  7      15          0       1                    0   \n",
       "48945                 8      18          0       1                    0   \n",
       "\n",
       "            no_of_trainings previous_year_rating length_of_service  \\\n",
       "employee_id                                                          \n",
       "65438                     1                  5.0                 8   \n",
       "65141                     1                  5.0                 4   \n",
       "7513                      1                  3.0                 7   \n",
       "2542                      2                  1.0                10   \n",
       "48945                     1                  3.0                 2   \n",
       "\n",
       "            KPIs_met >80% awards_won?  ... age_l  department_new  region_new  \\\n",
       "employee_id                            ...                                     \n",
       "65438                   1           0  ...    30             yes         yes   \n",
       "65141                   0           0  ...    20             yes         yes   \n",
       "7513                    0           0  ...    30             yes          no   \n",
       "2542                    0           0  ...    30             yes          no   \n",
       "48945                   0           0  ...    40             yes          no   \n",
       "\n",
       "            education_new age_new previous_year_rating_new  \\\n",
       "employee_id                                                  \n",
       "65438                  no     yes                       no   \n",
       "65141                 yes     yes                       no   \n",
       "7513                  yes     yes                       no   \n",
       "2542                  yes      no                      yes   \n",
       "48945                 yes      no                       no   \n",
       "\n",
       "            length_of_service_new avg_training_score_new train__score star_emp  \n",
       "employee_id                                                                     \n",
       "65438                         yes                     no          yes        1  \n",
       "65141                         yes                     no          yes        0  \n",
       "7513                          yes                     no          yes        0  \n",
       "2542                           no                     no           no        0  \n",
       "48945                         yes                    yes          yes        0  \n",
       "\n",
       "[5 rows x 23 columns]"
      ]
     },
     "execution_count": 51,
     "metadata": {},
     "output_type": "execute_result"
    }
   ],
   "source": [
    "df.head()"
   ]
  },
  {
   "cell_type": "code",
   "execution_count": 52,
   "id": "ea45620c",
   "metadata": {},
   "outputs": [
    {
     "data": {
      "text/plain": [
       "(54808, 23)"
      ]
     },
     "execution_count": 52,
     "metadata": {},
     "output_type": "execute_result"
    }
   ],
   "source": [
    "df.shape"
   ]
  },
  {
   "cell_type": "code",
   "execution_count": 53,
   "id": "f5b1cc72",
   "metadata": {},
   "outputs": [
    {
     "data": {
      "text/plain": [
       "Index(['department', 'region', 'education', 'gender', 'recruitment_channel',\n",
       "       'no_of_trainings', 'previous_year_rating', 'length_of_service',\n",
       "       'KPIs_met >80%', 'awards_won?', 'avg_training_score', 'is_promoted',\n",
       "       'Train_score', 'age_l', 'department_new', 'region_new', 'education_new',\n",
       "       'age_new', 'previous_year_rating_new', 'length_of_service_new',\n",
       "       'avg_training_score_new', 'train__score', 'star_emp'],\n",
       "      dtype='object')"
      ]
     },
     "execution_count": 53,
     "metadata": {},
     "output_type": "execute_result"
    }
   ],
   "source": [
    "df.columns"
   ]
  },
  {
   "cell_type": "markdown",
   "id": "8c12a437",
   "metadata": {},
   "source": []
  },
  {
   "cell_type": "code",
   "execution_count": 54,
   "id": "95c3209e",
   "metadata": {},
   "outputs": [
    {
     "data": {
      "text/html": [
       "<div>\n",
       "<style scoped>\n",
       "    .dataframe tbody tr th:only-of-type {\n",
       "        vertical-align: middle;\n",
       "    }\n",
       "\n",
       "    .dataframe tbody tr th {\n",
       "        vertical-align: top;\n",
       "    }\n",
       "\n",
       "    .dataframe thead th {\n",
       "        text-align: right;\n",
       "    }\n",
       "</style>\n",
       "<table border=\"1\" class=\"dataframe\">\n",
       "  <thead>\n",
       "    <tr style=\"text-align: right;\">\n",
       "      <th></th>\n",
       "      <th>department</th>\n",
       "      <th>region</th>\n",
       "      <th>education</th>\n",
       "      <th>gender</th>\n",
       "      <th>recruitment_channel</th>\n",
       "      <th>no_of_trainings</th>\n",
       "      <th>previous_year_rating</th>\n",
       "      <th>length_of_service</th>\n",
       "      <th>KPIs_met &gt;80%</th>\n",
       "      <th>awards_won?</th>\n",
       "      <th>...</th>\n",
       "      <th>age_l</th>\n",
       "      <th>department_new</th>\n",
       "      <th>region_new</th>\n",
       "      <th>education_new</th>\n",
       "      <th>age_new</th>\n",
       "      <th>previous_year_rating_new</th>\n",
       "      <th>length_of_service_new</th>\n",
       "      <th>avg_training_score_new</th>\n",
       "      <th>train__score</th>\n",
       "      <th>star_emp</th>\n",
       "    </tr>\n",
       "    <tr>\n",
       "      <th>employee_id</th>\n",
       "      <th></th>\n",
       "      <th></th>\n",
       "      <th></th>\n",
       "      <th></th>\n",
       "      <th></th>\n",
       "      <th></th>\n",
       "      <th></th>\n",
       "      <th></th>\n",
       "      <th></th>\n",
       "      <th></th>\n",
       "      <th></th>\n",
       "      <th></th>\n",
       "      <th></th>\n",
       "      <th></th>\n",
       "      <th></th>\n",
       "      <th></th>\n",
       "      <th></th>\n",
       "      <th></th>\n",
       "      <th></th>\n",
       "      <th></th>\n",
       "      <th></th>\n",
       "    </tr>\n",
       "  </thead>\n",
       "  <tbody>\n",
       "    <tr>\n",
       "      <th>65438</th>\n",
       "      <td>7</td>\n",
       "      <td>31</td>\n",
       "      <td>2</td>\n",
       "      <td>0</td>\n",
       "      <td>2</td>\n",
       "      <td>1</td>\n",
       "      <td>5.0</td>\n",
       "      <td>8</td>\n",
       "      <td>1</td>\n",
       "      <td>0</td>\n",
       "      <td>...</td>\n",
       "      <td>30</td>\n",
       "      <td>yes</td>\n",
       "      <td>yes</td>\n",
       "      <td>no</td>\n",
       "      <td>yes</td>\n",
       "      <td>no</td>\n",
       "      <td>yes</td>\n",
       "      <td>no</td>\n",
       "      <td>yes</td>\n",
       "      <td>1</td>\n",
       "    </tr>\n",
       "    <tr>\n",
       "      <th>65141</th>\n",
       "      <td>4</td>\n",
       "      <td>14</td>\n",
       "      <td>0</td>\n",
       "      <td>1</td>\n",
       "      <td>0</td>\n",
       "      <td>1</td>\n",
       "      <td>5.0</td>\n",
       "      <td>4</td>\n",
       "      <td>0</td>\n",
       "      <td>0</td>\n",
       "      <td>...</td>\n",
       "      <td>20</td>\n",
       "      <td>yes</td>\n",
       "      <td>yes</td>\n",
       "      <td>yes</td>\n",
       "      <td>yes</td>\n",
       "      <td>no</td>\n",
       "      <td>yes</td>\n",
       "      <td>no</td>\n",
       "      <td>yes</td>\n",
       "      <td>0</td>\n",
       "    </tr>\n",
       "    <tr>\n",
       "      <th>7513</th>\n",
       "      <td>7</td>\n",
       "      <td>10</td>\n",
       "      <td>0</td>\n",
       "      <td>1</td>\n",
       "      <td>2</td>\n",
       "      <td>1</td>\n",
       "      <td>3.0</td>\n",
       "      <td>7</td>\n",
       "      <td>0</td>\n",
       "      <td>0</td>\n",
       "      <td>...</td>\n",
       "      <td>30</td>\n",
       "      <td>yes</td>\n",
       "      <td>no</td>\n",
       "      <td>yes</td>\n",
       "      <td>yes</td>\n",
       "      <td>no</td>\n",
       "      <td>yes</td>\n",
       "      <td>no</td>\n",
       "      <td>yes</td>\n",
       "      <td>0</td>\n",
       "    </tr>\n",
       "    <tr>\n",
       "      <th>2542</th>\n",
       "      <td>7</td>\n",
       "      <td>15</td>\n",
       "      <td>0</td>\n",
       "      <td>1</td>\n",
       "      <td>0</td>\n",
       "      <td>2</td>\n",
       "      <td>1.0</td>\n",
       "      <td>10</td>\n",
       "      <td>0</td>\n",
       "      <td>0</td>\n",
       "      <td>...</td>\n",
       "      <td>30</td>\n",
       "      <td>yes</td>\n",
       "      <td>no</td>\n",
       "      <td>yes</td>\n",
       "      <td>no</td>\n",
       "      <td>yes</td>\n",
       "      <td>no</td>\n",
       "      <td>no</td>\n",
       "      <td>no</td>\n",
       "      <td>0</td>\n",
       "    </tr>\n",
       "    <tr>\n",
       "      <th>48945</th>\n",
       "      <td>8</td>\n",
       "      <td>18</td>\n",
       "      <td>0</td>\n",
       "      <td>1</td>\n",
       "      <td>0</td>\n",
       "      <td>1</td>\n",
       "      <td>3.0</td>\n",
       "      <td>2</td>\n",
       "      <td>0</td>\n",
       "      <td>0</td>\n",
       "      <td>...</td>\n",
       "      <td>40</td>\n",
       "      <td>yes</td>\n",
       "      <td>no</td>\n",
       "      <td>yes</td>\n",
       "      <td>no</td>\n",
       "      <td>no</td>\n",
       "      <td>yes</td>\n",
       "      <td>yes</td>\n",
       "      <td>yes</td>\n",
       "      <td>0</td>\n",
       "    </tr>\n",
       "  </tbody>\n",
       "</table>\n",
       "<p>5 rows × 23 columns</p>\n",
       "</div>"
      ],
      "text/plain": [
       "             department  region  education  gender  recruitment_channel  \\\n",
       "employee_id                                                               \n",
       "65438                 7      31          2       0                    2   \n",
       "65141                 4      14          0       1                    0   \n",
       "7513                  7      10          0       1                    2   \n",
       "2542                  7      15          0       1                    0   \n",
       "48945                 8      18          0       1                    0   \n",
       "\n",
       "            no_of_trainings previous_year_rating length_of_service  \\\n",
       "employee_id                                                          \n",
       "65438                     1                  5.0                 8   \n",
       "65141                     1                  5.0                 4   \n",
       "7513                      1                  3.0                 7   \n",
       "2542                      2                  1.0                10   \n",
       "48945                     1                  3.0                 2   \n",
       "\n",
       "            KPIs_met >80% awards_won?  ... age_l  department_new  region_new  \\\n",
       "employee_id                            ...                                     \n",
       "65438                   1           0  ...    30             yes         yes   \n",
       "65141                   0           0  ...    20             yes         yes   \n",
       "7513                    0           0  ...    30             yes          no   \n",
       "2542                    0           0  ...    30             yes          no   \n",
       "48945                   0           0  ...    40             yes          no   \n",
       "\n",
       "            education_new age_new previous_year_rating_new  \\\n",
       "employee_id                                                  \n",
       "65438                  no     yes                       no   \n",
       "65141                 yes     yes                       no   \n",
       "7513                  yes     yes                       no   \n",
       "2542                  yes      no                      yes   \n",
       "48945                 yes      no                       no   \n",
       "\n",
       "            length_of_service_new avg_training_score_new train__score star_emp  \n",
       "employee_id                                                                     \n",
       "65438                         yes                     no          yes        1  \n",
       "65141                         yes                     no          yes        0  \n",
       "7513                          yes                     no          yes        0  \n",
       "2542                           no                     no           no        0  \n",
       "48945                         yes                    yes          yes        0  \n",
       "\n",
       "[5 rows x 23 columns]"
      ]
     },
     "execution_count": 54,
     "metadata": {},
     "output_type": "execute_result"
    }
   ],
   "source": [
    "df.head()"
   ]
  },
  {
   "cell_type": "code",
   "execution_count": 55,
   "id": "945f7921",
   "metadata": {},
   "outputs": [
    {
     "data": {
      "text/plain": [
       "(54808, 23)"
      ]
     },
     "execution_count": 55,
     "metadata": {},
     "output_type": "execute_result"
    }
   ],
   "source": [
    "df.shape"
   ]
  },
  {
   "cell_type": "code",
   "execution_count": 56,
   "id": "af3b70e4",
   "metadata": {},
   "outputs": [],
   "source": [
    "df['no_of_trainings']=pd.to_numeric(df['no_of_trainings'])\n",
    "#df['age']=pd.to_numeric(df['age'])\n",
    "df['previous_year_rating']=pd.to_numeric(df['previous_year_rating'])\n",
    "df['length_of_service']=pd.to_numeric(df['length_of_service'])\n",
    "\n",
    "df['avg_training_score']=pd.to_numeric(df['avg_training_score'])"
   ]
  },
  {
   "cell_type": "code",
   "execution_count": 57,
   "id": "97c53556",
   "metadata": {},
   "outputs": [
    {
     "data": {
      "text/plain": [
       "Index(['department', 'region', 'education', 'gender', 'recruitment_channel',\n",
       "       'no_of_trainings', 'previous_year_rating', 'length_of_service',\n",
       "       'KPIs_met >80%', 'awards_won?', 'avg_training_score', 'is_promoted',\n",
       "       'Train_score', 'age_l', 'department_new', 'region_new', 'education_new',\n",
       "       'age_new', 'previous_year_rating_new', 'length_of_service_new',\n",
       "       'avg_training_score_new', 'train__score', 'star_emp'],\n",
       "      dtype='object')"
      ]
     },
     "execution_count": 57,
     "metadata": {},
     "output_type": "execute_result"
    }
   ],
   "source": [
    "df.columns"
   ]
  },
  {
   "cell_type": "code",
   "execution_count": 58,
   "id": "ed9e05bb",
   "metadata": {},
   "outputs": [],
   "source": [
    "df['best_emp']=df[['department_new', 'region_new', 'education_new',\n",
    "       'age_new', 'previous_year_rating_new', 'length_of_service_new',\n",
    "       'avg_training_score_new', 'train__score', 'star_emp']].any(axis=1,skipna=False)\n",
    "\n",
    "df.best_emp = df.best_emp.apply(lambda x: 1 if x==True else 0)\n"
   ]
  },
  {
   "cell_type": "code",
   "execution_count": 59,
   "id": "5fe6f53a",
   "metadata": {},
   "outputs": [],
   "source": [
    "df.drop(['department', 'region', 'education', 'gender', 'recruitment_channel','KPIs_met >80%','awards_won?'\n",
    "        ],axis=1,inplace=True)\n",
    "df=pd.get_dummies(df,drop_first=True)"
   ]
  },
  {
   "cell_type": "code",
   "execution_count": 60,
   "id": "571a598f",
   "metadata": {},
   "outputs": [
    {
     "data": {
      "text/plain": [
       "<AxesSubplot:>"
      ]
     },
     "execution_count": 60,
     "metadata": {},
     "output_type": "execute_result"
    },
    {
     "data": {
      "image/png": "[encoded data removed]",
      "text/plain": [
       "<Figure size 864x720 with 2 Axes>"
      ]
     },
     "metadata": {
      "needs_background": "light"
     },
     "output_type": "display_data"
    }
   ],
   "source": [
    "plt.figure(figsize = [12, 10])\n",
    "sns.heatmap(df.corr()[df.corr()>0.7],annot=True)"
   ]
  },
  {
   "cell_type": "markdown",
   "id": "b3c5ee70",
   "metadata": {},
   "source": [
    "# Model Training "
   ]
  },
  {
   "cell_type": "code",
   "execution_count": 61,
   "id": "256cd5a6",
   "metadata": {},
   "outputs": [],
   "source": [
    "from sklearn.model_selection import train_test_split\n",
    "from sklearn.ensemble import RandomForestClassifier\n",
    "from sklearn.metrics import classification_report,confusion_matrix\n",
    "from sklearn.model_selection import cross_val_score \n",
    "from imblearn.over_sampling import SMOTE\n",
    "\n",
    "X=df.drop('is_promoted',axis=1)\n",
    "y=df['is_promoted']\n",
    "\n",
    "Xtrain, Xtest, ytrain, ytest = train_test_split(X, y, test_size= 0.10,random_state=20)"
   ]
  },
  {
   "cell_type": "markdown",
   "id": "4a615e9b",
   "metadata": {},
   "source": [
    "from sklearn.preprocessing import StandardScaler\n",
    "mn=StandardScaler()\n",
    "\n",
    "Xtrain=pd.DataFrame(mn.fit_transform(Xtrain),columns=Xtrain.columns,index=Xtrain.index)\n",
    "Xtest=pd.DataFrame(mn.fit_transform(Xtest),columns=Xtest.columns,index=Xtest.index)"
   ]
  },
  {
   "cell_type": "code",
   "execution_count": 62,
   "id": "8267932e",
   "metadata": {},
   "outputs": [
    {
     "data": {
      "text/html": [
       "<div>\n",
       "<style scoped>\n",
       "    .dataframe tbody tr th:only-of-type {\n",
       "        vertical-align: middle;\n",
       "    }\n",
       "\n",
       "    .dataframe tbody tr th {\n",
       "        vertical-align: top;\n",
       "    }\n",
       "\n",
       "    .dataframe thead th {\n",
       "        text-align: right;\n",
       "    }\n",
       "</style>\n",
       "<table border=\"1\" class=\"dataframe\">\n",
       "  <thead>\n",
       "    <tr style=\"text-align: right;\">\n",
       "      <th></th>\n",
       "      <th>no_of_trainings</th>\n",
       "      <th>previous_year_rating</th>\n",
       "      <th>length_of_service</th>\n",
       "      <th>avg_training_score</th>\n",
       "      <th>Train_score</th>\n",
       "      <th>star_emp</th>\n",
       "      <th>best_emp</th>\n",
       "      <th>age_l_30</th>\n",
       "      <th>age_l_40</th>\n",
       "      <th>department_new_yes</th>\n",
       "      <th>region_new_yes</th>\n",
       "      <th>education_new_yes</th>\n",
       "      <th>age_new_yes</th>\n",
       "      <th>previous_year_rating_new_yes</th>\n",
       "      <th>length_of_service_new_yes</th>\n",
       "      <th>avg_training_score_new_yes</th>\n",
       "      <th>train__score_yes</th>\n",
       "    </tr>\n",
       "    <tr>\n",
       "      <th>employee_id</th>\n",
       "      <th></th>\n",
       "      <th></th>\n",
       "      <th></th>\n",
       "      <th></th>\n",
       "      <th></th>\n",
       "      <th></th>\n",
       "      <th></th>\n",
       "      <th></th>\n",
       "      <th></th>\n",
       "      <th></th>\n",
       "      <th></th>\n",
       "      <th></th>\n",
       "      <th></th>\n",
       "      <th></th>\n",
       "      <th></th>\n",
       "      <th></th>\n",
       "      <th></th>\n",
       "    </tr>\n",
       "  </thead>\n",
       "  <tbody>\n",
       "    <tr>\n",
       "      <th>46478</th>\n",
       "      <td>1</td>\n",
       "      <td>1.0</td>\n",
       "      <td>11</td>\n",
       "      <td>68</td>\n",
       "      <td>68</td>\n",
       "      <td>0</td>\n",
       "      <td>1</td>\n",
       "      <td>1</td>\n",
       "      <td>0</td>\n",
       "      <td>0</td>\n",
       "      <td>0</td>\n",
       "      <td>0</td>\n",
       "      <td>0</td>\n",
       "      <td>1</td>\n",
       "      <td>0</td>\n",
       "      <td>1</td>\n",
       "      <td>1</td>\n",
       "    </tr>\n",
       "    <tr>\n",
       "      <th>16174</th>\n",
       "      <td>2</td>\n",
       "      <td>5.0</td>\n",
       "      <td>4</td>\n",
       "      <td>70</td>\n",
       "      <td>140</td>\n",
       "      <td>1</td>\n",
       "      <td>1</td>\n",
       "      <td>0</td>\n",
       "      <td>0</td>\n",
       "      <td>0</td>\n",
       "      <td>0</td>\n",
       "      <td>1</td>\n",
       "      <td>1</td>\n",
       "      <td>0</td>\n",
       "      <td>1</td>\n",
       "      <td>1</td>\n",
       "      <td>0</td>\n",
       "    </tr>\n",
       "    <tr>\n",
       "      <th>60086</th>\n",
       "      <td>1</td>\n",
       "      <td>3.0</td>\n",
       "      <td>4</td>\n",
       "      <td>67</td>\n",
       "      <td>67</td>\n",
       "      <td>0</td>\n",
       "      <td>1</td>\n",
       "      <td>1</td>\n",
       "      <td>0</td>\n",
       "      <td>0</td>\n",
       "      <td>1</td>\n",
       "      <td>1</td>\n",
       "      <td>1</td>\n",
       "      <td>0</td>\n",
       "      <td>1</td>\n",
       "      <td>1</td>\n",
       "      <td>1</td>\n",
       "    </tr>\n",
       "    <tr>\n",
       "      <th>51941</th>\n",
       "      <td>1</td>\n",
       "      <td>1.0</td>\n",
       "      <td>9</td>\n",
       "      <td>48</td>\n",
       "      <td>48</td>\n",
       "      <td>0</td>\n",
       "      <td>1</td>\n",
       "      <td>1</td>\n",
       "      <td>0</td>\n",
       "      <td>1</td>\n",
       "      <td>1</td>\n",
       "      <td>1</td>\n",
       "      <td>0</td>\n",
       "      <td>1</td>\n",
       "      <td>0</td>\n",
       "      <td>0</td>\n",
       "      <td>1</td>\n",
       "    </tr>\n",
       "    <tr>\n",
       "      <th>14304</th>\n",
       "      <td>1</td>\n",
       "      <td>3.0</td>\n",
       "      <td>7</td>\n",
       "      <td>74</td>\n",
       "      <td>74</td>\n",
       "      <td>0</td>\n",
       "      <td>1</td>\n",
       "      <td>0</td>\n",
       "      <td>1</td>\n",
       "      <td>1</td>\n",
       "      <td>0</td>\n",
       "      <td>1</td>\n",
       "      <td>0</td>\n",
       "      <td>0</td>\n",
       "      <td>1</td>\n",
       "      <td>1</td>\n",
       "      <td>1</td>\n",
       "    </tr>\n",
       "  </tbody>\n",
       "</table>\n",
       "</div>"
      ],
      "text/plain": [
       "             no_of_trainings  previous_year_rating  length_of_service  \\\n",
       "employee_id                                                             \n",
       "46478                      1                   1.0                 11   \n",
       "16174                      2                   5.0                  4   \n",
       "60086                      1                   3.0                  4   \n",
       "51941                      1                   1.0                  9   \n",
       "14304                      1                   3.0                  7   \n",
       "\n",
       "             avg_training_score  Train_score  star_emp  best_emp  age_l_30  \\\n",
       "employee_id                                                                  \n",
       "46478                        68           68         0         1         1   \n",
       "16174                        70          140         1         1         0   \n",
       "60086                        67           67         0         1         1   \n",
       "51941                        48           48         0         1         1   \n",
       "14304                        74           74         0         1         0   \n",
       "\n",
       "             age_l_40  department_new_yes  region_new_yes  education_new_yes  \\\n",
       "employee_id                                                                    \n",
       "46478               0                   0               0                  0   \n",
       "16174               0                   0               0                  1   \n",
       "60086               0                   0               1                  1   \n",
       "51941               0                   1               1                  1   \n",
       "14304               1                   1               0                  1   \n",
       "\n",
       "             age_new_yes  previous_year_rating_new_yes  \\\n",
       "employee_id                                              \n",
       "46478                  0                             1   \n",
       "16174                  1                             0   \n",
       "60086                  1                             0   \n",
       "51941                  0                             1   \n",
       "14304                  0                             0   \n",
       "\n",
       "             length_of_service_new_yes  avg_training_score_new_yes  \\\n",
       "employee_id                                                          \n",
       "46478                                0                           1   \n",
       "16174                                1                           1   \n",
       "60086                                1                           1   \n",
       "51941                                0                           0   \n",
       "14304                                1                           1   \n",
       "\n",
       "             train__score_yes  \n",
       "employee_id                    \n",
       "46478                       1  \n",
       "16174                       0  \n",
       "60086                       1  \n",
       "51941                       1  \n",
       "14304                       1  "
      ]
     },
     "execution_count": 62,
     "metadata": {},
     "output_type": "execute_result"
    }
   ],
   "source": [
    "Xtrain.head()"
   ]
  },
  {
   "cell_type": "code",
   "execution_count": 63,
   "id": "148a6de8",
   "metadata": {},
   "outputs": [
    {
     "data": {
      "text/plain": [
       "(49327, 17)"
      ]
     },
     "execution_count": 63,
     "metadata": {},
     "output_type": "execute_result"
    }
   ],
   "source": [
    "Xtrain.shape"
   ]
  },
  {
   "cell_type": "code",
   "execution_count": 64,
   "id": "daeb4cf2",
   "metadata": {},
   "outputs": [
    {
     "data": {
      "text/plain": [
       "(5481, 17)"
      ]
     },
     "execution_count": 64,
     "metadata": {},
     "output_type": "execute_result"
    }
   ],
   "source": [
    "Xtest.shape"
   ]
  },
  {
   "cell_type": "code",
   "execution_count": 65,
   "id": "fe886e98",
   "metadata": {},
   "outputs": [
    {
     "name": "stdout",
     "output_type": "stream",
     "text": [
      "              precision    recall  f1-score   support\n",
      "\n",
      "           0       0.92      1.00      0.96      5034\n",
      "           1       0.77      0.06      0.11       447\n",
      "\n",
      "    accuracy                           0.92      5481\n",
      "   macro avg       0.85      0.53      0.54      5481\n",
      "weighted avg       0.91      0.92      0.89      5481\n",
      "\n",
      "\n",
      "RFC score  0.9175096911898712\n",
      "\n",
      "[[5026    8]\n",
      " [ 420   27]]\n",
      "train score  0.9175096802967948\n",
      "test score  0.9219120598430943\n"
     ]
    }
   ],
   "source": [
    "from sklearn.linear_model import LogisticRegression\n",
    "\n",
    "lr=LogisticRegression(random_state=20,solver='liblinear')\n",
    "lr_model=lr.fit(Xtrain,ytrain)\n",
    "\n",
    "y_pred=lr_model.predict(Xtest)\n",
    "\n",
    "print(classification_report(ytest,y_pred))\n",
    "print()\n",
    "print('RFC score ',np.mean(cross_val_score(lr,Xtrain,ytrain,cv=5)))\n",
    "print()\n",
    "print(confusion_matrix(ytest,y_pred))\n",
    "print('train score ',lr_model.score(Xtrain,ytrain))\n",
    "print('test score ',lr_model.score(Xtest,ytest))"
   ]
  },
  {
   "cell_type": "markdown",
   "id": "88d7b2c1",
   "metadata": {},
   "source": [
    "# Using Smote -Upsampling "
   ]
  },
  {
   "cell_type": "code",
   "execution_count": 66,
   "id": "2bd6097a",
   "metadata": {},
   "outputs": [],
   "source": [
    "sm = SMOTE()\n",
    "X_train, y_train = sm.fit_resample(Xtrain, ytrain.astype('int'))"
   ]
  },
  {
   "cell_type": "code",
   "execution_count": 67,
   "id": "43fce56d",
   "metadata": {},
   "outputs": [
    {
     "data": {
      "text/plain": [
       "(90212, 17)"
      ]
     },
     "execution_count": 67,
     "metadata": {},
     "output_type": "execute_result"
    }
   ],
   "source": [
    "X_train.shape"
   ]
  },
  {
   "cell_type": "code",
   "execution_count": 68,
   "id": "a2fa60c2",
   "metadata": {},
   "outputs": [
    {
     "data": {
      "text/plain": [
       "0    45106\n",
       "1    45106\n",
       "Name: is_promoted, dtype: int64"
      ]
     },
     "execution_count": 68,
     "metadata": {},
     "output_type": "execute_result"
    }
   ],
   "source": [
    "y_train.value_counts()"
   ]
  },
  {
   "cell_type": "code",
   "execution_count": 69,
   "id": "2af5ddff",
   "metadata": {
    "scrolled": true
   },
   "outputs": [
    {
     "data": {
      "text/plain": [
       "0    45106\n",
       "1     4221\n",
       "Name: is_promoted, dtype: int64"
      ]
     },
     "execution_count": 69,
     "metadata": {},
     "output_type": "execute_result"
    }
   ],
   "source": [
    "ytrain.value_counts()"
   ]
  },
  {
   "cell_type": "code",
   "execution_count": 70,
   "id": "3186ff02",
   "metadata": {},
   "outputs": [
    {
     "name": "stdout",
     "output_type": "stream",
     "text": [
      "              precision    recall  f1-score   support\n",
      "\n",
      "           0       0.96      0.72      0.82      5034\n",
      "           1       0.18      0.69      0.28       447\n",
      "\n",
      "    accuracy                           0.72      5481\n",
      "   macro avg       0.57      0.70      0.55      5481\n",
      "weighted avg       0.90      0.72      0.78      5481\n",
      "\n",
      "\n",
      "RFC score  0.7332507669004853\n",
      "\n",
      "[[3616 1418]\n",
      " [ 139  308]]\n",
      "train score  0.7337826453243471\n",
      "test score  0.715927750410509\n"
     ]
    }
   ],
   "source": [
    "from sklearn.linear_model import LogisticRegression\n",
    "\n",
    "lr=LogisticRegression(random_state=20,solver='liblinear')\n",
    "lr_model=lr.fit(X_train,y_train)\n",
    "\n",
    "y_pred=lr_model.predict(Xtest)\n",
    "\n",
    "print(classification_report(ytest,y_pred))\n",
    "print()\n",
    "print('RFC score ',np.mean(cross_val_score(lr,X_train,y_train,cv=5)))\n",
    "print()\n",
    "print(confusion_matrix(ytest,y_pred))\n",
    "print('train score ',lr_model.score(X_train,y_train))\n",
    "print('test score ',lr_model.score(Xtest,ytest))"
   ]
  },
  {
   "cell_type": "markdown",
   "id": "fc261528",
   "metadata": {},
   "source": [
    "# DecisionTreeClassifier"
   ]
  },
  {
   "cell_type": "code",
   "execution_count": 71,
   "id": "6479be61",
   "metadata": {},
   "outputs": [
    {
     "name": "stdout",
     "output_type": "stream",
     "text": [
      "              precision    recall  f1-score   support\n",
      "\n",
      "           0       0.94      0.88      0.91      5034\n",
      "           1       0.22      0.38      0.28       447\n",
      "\n",
      "    accuracy                           0.84      5481\n",
      "   macro avg       0.58      0.63      0.59      5481\n",
      "weighted avg       0.88      0.84      0.86      5481\n",
      "\n",
      "\n",
      "RFC score  0.9065316695966722\n",
      "\n",
      "[[4438  596]\n",
      " [ 278  169]]\n",
      "train score  0.9660023056799539\n",
      "test score  0.8405400474365992\n"
     ]
    }
   ],
   "source": [
    "from sklearn.tree import DecisionTreeClassifier\n",
    "\n",
    "dc=DecisionTreeClassifier(random_state=20)\n",
    "dc_model=dc.fit(X_train,y_train)\n",
    "y_pred=dc_model.predict(Xtest)\n",
    "\n",
    "print(classification_report(ytest,y_pred))\n",
    "print()\n",
    "\n",
    "print('RFC score ',np.mean(cross_val_score(dc,X_train,y_train,cv=5)))\n",
    "print()\n",
    "print(confusion_matrix(ytest,y_pred))\n",
    "\n",
    "print('train score ',dc_model.score(X_train,y_train))\n",
    "\n",
    "print('test score ',dc_model.score(Xtest,ytest))"
   ]
  },
  {
   "cell_type": "markdown",
   "id": "9045394a",
   "metadata": {},
   "source": [
    "# RandomForestClassifier"
   ]
  },
  {
   "cell_type": "code",
   "execution_count": 72,
   "id": "6d7c1bb8",
   "metadata": {},
   "outputs": [
    {
     "name": "stdout",
     "output_type": "stream",
     "text": [
      "              precision    recall  f1-score   support\n",
      "\n",
      "           0       0.94      0.89      0.92      5034\n",
      "           1       0.24      0.38      0.29       447\n",
      "\n",
      "    accuracy                           0.85      5481\n",
      "   macro avg       0.59      0.64      0.61      5481\n",
      "weighted avg       0.88      0.85      0.87      5481\n",
      "\n",
      "\n",
      "RFC score  0.918924711154031\n",
      "\n",
      "[[4498  536]\n",
      " [ 277  170]]\n",
      "train score  0.9659801356803973\n",
      "test score  0.8516694033935414\n"
     ]
    }
   ],
   "source": [
    "Rfc=RandomForestClassifier(random_state=20)\n",
    "Rfc_model=Rfc.fit(X_train,y_train)\n",
    "\n",
    "y_pred=Rfc_model.predict(Xtest)\n",
    "\n",
    "print(classification_report(ytest,y_pred))\n",
    "print()\n",
    "\n",
    "print('RFC score ',np.mean(cross_val_score(Rfc,X_train,y_train,cv=5)))\n",
    "print()\n",
    "print(confusion_matrix(ytest,y_pred))\n",
    "print('train score ',Rfc_model.score(X_train,y_train))\n",
    "\n",
    "print('test score ',Rfc_model.score(Xtest,ytest))"
   ]
  },
  {
   "cell_type": "code",
   "execution_count": 73,
   "id": "2f57a036",
   "metadata": {},
   "outputs": [
    {
     "name": "stdout",
     "output_type": "stream",
     "text": [
      "              precision    recall  f1-score   support\n",
      "\n",
      "           0       0.96      0.79      0.87      5034\n",
      "           1       0.21      0.63      0.32       447\n",
      "\n",
      "    accuracy                           0.78      5481\n",
      "   macro avg       0.59      0.71      0.59      5481\n",
      "weighted avg       0.90      0.78      0.82      5481\n",
      "\n",
      "\n",
      "RFC score  0.7717380642062361\n",
      "\n",
      "[[3997 1037]\n",
      " [ 167  280]]\n",
      "train score  0.7719815545603689\n",
      "test score  0.7803320561941252\n"
     ]
    }
   ],
   "source": [
    "from sklearn.ensemble import AdaBoostClassifier\n",
    "abc=AdaBoostClassifier(random_state=20)\n",
    "abc_model=abc.fit(X_train,y_train)\n",
    "y_pred=abc_model.predict(Xtest)\n",
    "\n",
    "print(classification_report(ytest,y_pred))\n",
    "print()\n",
    "print('RFC score ',np.mean(cross_val_score(abc,X_train,y_train,cv=5)))\n",
    "print()\n",
    "print(confusion_matrix(ytest,y_pred))\n",
    "print('train score ',abc_model.score(X_train,y_train))\n",
    "print('test score ',abc_model.score(Xtest,ytest))"
   ]
  },
  {
   "cell_type": "code",
   "execution_count": 74,
   "id": "e14f58f8",
   "metadata": {},
   "outputs": [
    {
     "name": "stdout",
     "output_type": "stream",
     "text": [
      "              precision    recall  f1-score   support\n",
      "\n",
      "           0       0.96      0.78      0.86      5034\n",
      "           1       0.21      0.63      0.31       447\n",
      "\n",
      "    accuracy                           0.77      5481\n",
      "   macro avg       0.58      0.71      0.59      5481\n",
      "weighted avg       0.90      0.77      0.82      5481\n",
      "\n",
      "\n",
      "RFC score  0.8118436199748789\n",
      "\n",
      "[[3946 1088]\n",
      " [ 164  283]]\n",
      "train score  0.8155456036890879\n",
      "test score  0.7715745301952198\n"
     ]
    }
   ],
   "source": [
    "from sklearn.ensemble import GradientBoostingClassifier\n",
    "gb=GradientBoostingClassifier(random_state=20 )\n",
    "gb_model=gb.fit(X_train,y_train)\n",
    "y_pred=gb_model.predict(Xtest)\n",
    "\n",
    "print(classification_report(ytest,y_pred))\n",
    "print()\n",
    "\n",
    "print('RFC score ',np.mean(cross_val_score(gb,X_train,y_train,cv=5)))\n",
    "print()\n",
    "print(confusion_matrix(ytest,y_pred))\n",
    "\n",
    "print('train score ',gb_model.score(X_train,y_train))\n",
    "\n",
    "print('test score ',gb_model.score(Xtest,ytest))"
   ]
  },
  {
   "cell_type": "code",
   "execution_count": 75,
   "id": "f3d46635",
   "metadata": {},
   "outputs": [
    {
     "name": "stdout",
     "output_type": "stream",
     "text": [
      "              precision    recall  f1-score   support\n",
      "\n",
      "           0       0.96      0.84      0.89      5034\n",
      "           1       0.24      0.56      0.33       447\n",
      "\n",
      "    accuracy                           0.82      5481\n",
      "   macro avg       0.60      0.70      0.61      5481\n",
      "weighted avg       0.90      0.82      0.85      5481\n",
      "\n",
      "\n",
      "RFC score  0.8557624148099372\n",
      "\n",
      "[[4222  812]\n",
      " [ 195  252]]\n",
      "train score  0.8691637476167251\n",
      "test score  0.816274402481299\n"
     ]
    }
   ],
   "source": [
    "from xgboost import XGBClassifier\n",
    "xgb=XGBClassifier(random_state=20,eval_metric='logloss',use_label_encoder=False)\n",
    "xgb_model=xgb.fit(X_train,y_train)\n",
    "y_pred=xgb_model.predict(Xtest)\n",
    "\n",
    "print(classification_report(ytest,y_pred))\n",
    "print()\n",
    "\n",
    "print('RFC score ',np.mean(cross_val_score(xgb,X_train,y_train,cv=5)))\n",
    "print()\n",
    "print(confusion_matrix(ytest,y_pred))\n",
    "\n",
    "print('train score ',xgb_model.score(X_train,y_train))\n",
    "\n",
    "print('test score ',xgb_model.score(Xtest,ytest))"
   ]
  },
  {
   "cell_type": "markdown",
   "id": "73ac27c1",
   "metadata": {},
   "source": [
    "# SGDClassifier"
   ]
  },
  {
   "cell_type": "code",
   "execution_count": 76,
   "id": "985bc3aa",
   "metadata": {},
   "outputs": [
    {
     "name": "stdout",
     "output_type": "stream",
     "text": [
      "              precision    recall  f1-score   support\n",
      "\n",
      "           0       0.97      0.65      0.78      5034\n",
      "           1       0.16      0.74      0.26       447\n",
      "\n",
      "    accuracy                           0.66      5481\n",
      "   macro avg       0.56      0.69      0.52      5481\n",
      "weighted avg       0.90      0.66      0.73      5481\n",
      "\n",
      "\n",
      "RFC score  0.918924711154031\n",
      "\n",
      "[[3272 1762]\n",
      " [ 117  330]]\n",
      "train score  0.7031880459362391\n",
      "test score  0.6571793468345193\n"
     ]
    }
   ],
   "source": [
    "from sklearn.linear_model import SGDClassifier\n",
    "\n",
    "sgd=SGDClassifier(random_state=20 )\n",
    "sgd_model=sgd.fit(X_train,y_train)\n",
    "y_pred=sgd_model.predict(Xtest)\n",
    "\n",
    "print(classification_report(ytest,y_pred))\n",
    "print()\n",
    "print('RFC score ',np.mean(cross_val_score(Rfc,X_train,y_train,cv=5)))\n",
    "print()\n",
    "print(confusion_matrix(ytest,y_pred))\n",
    "print('train score ',sgd_model.score(X_train,y_train))\n",
    "print('test score ',sgd_model.score(Xtest,ytest))"
   ]
  },
  {
   "cell_type": "markdown",
   "id": "478e60b9",
   "metadata": {},
   "source": [
    "# Test"
   ]
  },
  {
   "cell_type": "code",
   "execution_count": 143,
   "id": "dec899f4",
   "metadata": {},
   "outputs": [
    {
     "data": {
      "text/html": [
       "<div>\n",
       "<style scoped>\n",
       "    .dataframe tbody tr th:only-of-type {\n",
       "        vertical-align: middle;\n",
       "    }\n",
       "\n",
       "    .dataframe tbody tr th {\n",
       "        vertical-align: top;\n",
       "    }\n",
       "\n",
       "    .dataframe thead th {\n",
       "        text-align: right;\n",
       "    }\n",
       "</style>\n",
       "<table border=\"1\" class=\"dataframe\">\n",
       "  <thead>\n",
       "    <tr style=\"text-align: right;\">\n",
       "      <th></th>\n",
       "      <th>employee_id</th>\n",
       "      <th>department</th>\n",
       "      <th>region</th>\n",
       "      <th>education</th>\n",
       "      <th>gender</th>\n",
       "      <th>recruitment_channel</th>\n",
       "      <th>no_of_trainings</th>\n",
       "      <th>age</th>\n",
       "      <th>previous_year_rating</th>\n",
       "      <th>length_of_service</th>\n",
       "      <th>KPIs_met &gt;80%</th>\n",
       "      <th>awards_won?</th>\n",
       "      <th>avg_training_score</th>\n",
       "    </tr>\n",
       "  </thead>\n",
       "  <tbody>\n",
       "    <tr>\n",
       "      <th>0</th>\n",
       "      <td>8724</td>\n",
       "      <td>Technology</td>\n",
       "      <td>region_26</td>\n",
       "      <td>Bachelor's</td>\n",
       "      <td>m</td>\n",
       "      <td>sourcing</td>\n",
       "      <td>1</td>\n",
       "      <td>24</td>\n",
       "      <td>NaN</td>\n",
       "      <td>1</td>\n",
       "      <td>1</td>\n",
       "      <td>0</td>\n",
       "      <td>77</td>\n",
       "    </tr>\n",
       "    <tr>\n",
       "      <th>1</th>\n",
       "      <td>74430</td>\n",
       "      <td>HR</td>\n",
       "      <td>region_4</td>\n",
       "      <td>Bachelor's</td>\n",
       "      <td>f</td>\n",
       "      <td>other</td>\n",
       "      <td>1</td>\n",
       "      <td>31</td>\n",
       "      <td>3.0</td>\n",
       "      <td>5</td>\n",
       "      <td>0</td>\n",
       "      <td>0</td>\n",
       "      <td>51</td>\n",
       "    </tr>\n",
       "    <tr>\n",
       "      <th>2</th>\n",
       "      <td>72255</td>\n",
       "      <td>Sales &amp; Marketing</td>\n",
       "      <td>region_13</td>\n",
       "      <td>Bachelor's</td>\n",
       "      <td>m</td>\n",
       "      <td>other</td>\n",
       "      <td>1</td>\n",
       "      <td>31</td>\n",
       "      <td>1.0</td>\n",
       "      <td>4</td>\n",
       "      <td>0</td>\n",
       "      <td>0</td>\n",
       "      <td>47</td>\n",
       "    </tr>\n",
       "    <tr>\n",
       "      <th>3</th>\n",
       "      <td>38562</td>\n",
       "      <td>Procurement</td>\n",
       "      <td>region_2</td>\n",
       "      <td>Bachelor's</td>\n",
       "      <td>f</td>\n",
       "      <td>other</td>\n",
       "      <td>3</td>\n",
       "      <td>31</td>\n",
       "      <td>2.0</td>\n",
       "      <td>9</td>\n",
       "      <td>0</td>\n",
       "      <td>0</td>\n",
       "      <td>65</td>\n",
       "    </tr>\n",
       "    <tr>\n",
       "      <th>4</th>\n",
       "      <td>64486</td>\n",
       "      <td>Finance</td>\n",
       "      <td>region_29</td>\n",
       "      <td>Bachelor's</td>\n",
       "      <td>m</td>\n",
       "      <td>sourcing</td>\n",
       "      <td>1</td>\n",
       "      <td>30</td>\n",
       "      <td>4.0</td>\n",
       "      <td>7</td>\n",
       "      <td>0</td>\n",
       "      <td>0</td>\n",
       "      <td>61</td>\n",
       "    </tr>\n",
       "  </tbody>\n",
       "</table>\n",
       "</div>"
      ],
      "text/plain": [
       "   employee_id         department     region   education gender  \\\n",
       "0         8724         Technology  region_26  Bachelor's      m   \n",
       "1        74430                 HR   region_4  Bachelor's      f   \n",
       "2        72255  Sales & Marketing  region_13  Bachelor's      m   \n",
       "3        38562        Procurement   region_2  Bachelor's      f   \n",
       "4        64486            Finance  region_29  Bachelor's      m   \n",
       "\n",
       "  recruitment_channel  no_of_trainings  age  previous_year_rating  \\\n",
       "0            sourcing                1   24                   NaN   \n",
       "1               other                1   31                   3.0   \n",
       "2               other                1   31                   1.0   \n",
       "3               other                3   31                   2.0   \n",
       "4            sourcing                1   30                   4.0   \n",
       "\n",
       "   length_of_service  KPIs_met >80%  awards_won?  avg_training_score  \n",
       "0                  1              1            0                  77  \n",
       "1                  5              0            0                  51  \n",
       "2                  4              0            0                  47  \n",
       "3                  9              0            0                  65  \n",
       "4                  7              0            0                  61  "
      ]
     },
     "execution_count": 143,
     "metadata": {},
     "output_type": "execute_result"
    }
   ],
   "source": [
    "test=pd.read_csv('C:/Users/Naman/Downloads/naman python/ana lytics/loan prediction/Hr analytics/test_2umaH9m.csv')\n",
    "test.head()      "
   ]
  },
  {
   "cell_type": "code",
   "execution_count": 144,
   "id": "f62251c4",
   "metadata": {},
   "outputs": [
    {
     "data": {
      "text/plain": [
       "employee_id             0.000000\n",
       "department              0.000000\n",
       "region                  0.000000\n",
       "education               4.401873\n",
       "gender                  0.000000\n",
       "recruitment_channel     0.000000\n",
       "no_of_trainings         0.000000\n",
       "age                     0.000000\n",
       "previous_year_rating    7.713921\n",
       "length_of_service       0.000000\n",
       "KPIs_met >80%           0.000000\n",
       "awards_won?             0.000000\n",
       "avg_training_score      0.000000\n",
       "dtype: float64"
      ]
     },
     "execution_count": 144,
     "metadata": {},
     "output_type": "execute_result"
    }
   ],
   "source": [
    "test.isnull().sum()/len(test)*100"
   ]
  },
  {
   "cell_type": "code",
   "execution_count": 145,
   "id": "6dfd6dac",
   "metadata": {},
   "outputs": [],
   "source": [
    "test['previous_year_rating']=test['previous_year_rating'].fillna(0)\n",
    "test['education']=test['education'].ffill(axis = 0)"
   ]
  },
  {
   "cell_type": "code",
   "execution_count": 146,
   "id": "c545298b",
   "metadata": {},
   "outputs": [],
   "source": [
    "test['gender']=pd.get_dummies(test['gender'],drop_first=True)"
   ]
  },
  {
   "cell_type": "code",
   "execution_count": 147,
   "id": "ab10df40",
   "metadata": {},
   "outputs": [
    {
     "data": {
      "text/plain": [
       "employee_id             0.0\n",
       "department              0.0\n",
       "region                  0.0\n",
       "education               0.0\n",
       "gender                  0.0\n",
       "recruitment_channel     0.0\n",
       "no_of_trainings         0.0\n",
       "age                     0.0\n",
       "previous_year_rating    0.0\n",
       "length_of_service       0.0\n",
       "KPIs_met >80%           0.0\n",
       "awards_won?             0.0\n",
       "avg_training_score      0.0\n",
       "dtype: float64"
      ]
     },
     "execution_count": 147,
     "metadata": {},
     "output_type": "execute_result"
    }
   ],
   "source": [
    "test.isnull().sum()/len(test)*100"
   ]
  },
  {
   "cell_type": "code",
   "execution_count": 148,
   "id": "5a34781a",
   "metadata": {},
   "outputs": [],
   "source": [
    "test.set_index(['employee_id'],inplace=True)\n",
    "test['KPIs_met >80%']=test['KPIs_met >80%'].astype('object')\n",
    "test['region']=test['region'].astype('object')\n",
    "test['education']=test['education'].astype('object')\n",
    "test['recruitment_channel']=test['recruitment_channel'].astype('object')"
   ]
  },
  {
   "cell_type": "code",
   "execution_count": 149,
   "id": "9f354f8e",
   "metadata": {},
   "outputs": [],
   "source": [
    "test['Train_score']=test['no_of_trainings'] * test['avg_training_score']\n",
    "\n",
    "test['Train_score']=pd.to_numeric(test['Train_score'])\n",
    "test['star_emp']=test[['KPIs_met >80%','awards_won?']].any(axis=1,skipna=False)\n",
    "test.star_emp = test.star_emp.apply(lambda x: 1 if x==True else 0)"
   ]
  },
  {
   "cell_type": "code",
   "execution_count": 150,
   "id": "37b97b5b",
   "metadata": {},
   "outputs": [],
   "source": [
    "test['department']=le.fit_transform(test['department'])\n",
    "test['region']=le.fit_transform(test['region'])\n",
    "test['recruitment_channel']=le.fit_transform(test['recruitment_channel'])\n",
    "test['education']=le.fit_transform(test['education'])"
   ]
  },
  {
   "cell_type": "code",
   "execution_count": 151,
   "id": "b60cdadc",
   "metadata": {},
   "outputs": [],
   "source": [
    "def depar(x):\n",
    "    if (x=='Sales & Marketing')  or (x=='Operations') or (x=='Technology') :\n",
    "        return 'yes'\n",
    "    else :\n",
    "        return 'no'\n",
    "    \n",
    "test['department_new']=test['department'].apply(depar)   "
   ]
  },
  {
   "cell_type": "code",
   "execution_count": 152,
   "id": "14c0081c",
   "metadata": {},
   "outputs": [],
   "source": [
    "def region_check(x):\n",
    "    if (x=='region_2')  or (x=='region_22') or (x=='region_7') :\n",
    "        return 'yes'\n",
    "    else :\n",
    "        return 'no'\n",
    "    \n",
    "\n",
    "test['region_new']=test['region'].apply(region_check)"
   ]
  },
  {
   "cell_type": "code",
   "execution_count": 153,
   "id": "f5f112fc",
   "metadata": {},
   "outputs": [],
   "source": [
    "def edu(x):\n",
    "    if (x==\"Bachelor's\")   :\n",
    "        return 'yes'\n",
    "    else :\n",
    "        return 'no'\n",
    "    \n",
    "test['education_new']=test['education'].apply(edu)"
   ]
  },
  {
   "cell_type": "code",
   "execution_count": 154,
   "id": "d1c8d430",
   "metadata": {},
   "outputs": [],
   "source": [
    "def age_(x):\n",
    "    if (x >26) & (x<36)   :\n",
    "        return 'yes'\n",
    "    else :\n",
    "        return 'no'\n",
    "test['age_new']=test['age'].apply(age_) "
   ]
  },
  {
   "cell_type": "code",
   "execution_count": 155,
   "id": "1bdbc020",
   "metadata": {},
   "outputs": [],
   "source": [
    "def ser(x):\n",
    "    if (x >1) & (x<9)   :\n",
    "        return 'yes'\n",
    "    else :\n",
    "        return 'no'\n",
    "test['length_of_service_new']=test['length_of_service'].apply(ser)  "
   ]
  },
  {
   "cell_type": "code",
   "execution_count": 156,
   "id": "ee556921",
   "metadata": {},
   "outputs": [],
   "source": [
    "def rat(x):\n",
    "    if (x <3)   :\n",
    "        return 'yes'\n",
    "    else :\n",
    "        return 'no'\n",
    "test['previous_year_rating_new']=test['previous_year_rating'].apply(rat)    \n"
   ]
  },
  {
   "cell_type": "code",
   "execution_count": 157,
   "id": "3ff9c114",
   "metadata": {},
   "outputs": [],
   "source": [
    "def avg_train(x):\n",
    "    if (x >60)   :\n",
    "        return 'yes'\n",
    "    else :\n",
    "        return 'no'\n",
    "test['avg_training_score_new']=test['avg_training_score'].apply(avg_train)  "
   ]
  },
  {
   "cell_type": "code",
   "execution_count": 158,
   "id": "6d28ad01",
   "metadata": {},
   "outputs": [],
   "source": [
    "def region_check(x):\n",
    "    if (x=='region_2')  or (x=='region_22') or (x=='region_7') :\n",
    "        return 'yes'\n",
    "    else :\n",
    "        return 'no'\n",
    "test['region_new']=test['region'].apply(region_check)    "
   ]
  },
  {
   "cell_type": "code",
   "execution_count": 159,
   "id": "39d0ec61",
   "metadata": {},
   "outputs": [],
   "source": [
    "def edu(x):\n",
    "    if (x==\"Bachelor's\")   :\n",
    "        return 'yes'\n",
    "    \n",
    "    else :\n",
    "        return 'no'\n",
    "test['education_new']=test['education'].apply(edu)\n",
    " "
   ]
  },
  {
   "cell_type": "code",
   "execution_count": 160,
   "id": "863a2ebd",
   "metadata": {},
   "outputs": [],
   "source": [
    "def depar(x):\n",
    "    if (x=='Sales & Marketing')  or (x=='Operations') or (x=='Technology') :\n",
    "        return 'yes'\n",
    "    else :\n",
    "        return 'no'\n",
    "    \n",
    "test['department_new']=test['department'].apply(depar)    \n",
    "\n",
    "def region_check(x):\n",
    "    if (x=='region_2')  or (x=='region_22') or (x=='region_7') :\n",
    "        return 'yes'\n",
    "    else :\n",
    "        return 'no'\n",
    "test['region_new']=test['region'].apply(region_check)    \n",
    "\n",
    "def edu(x):\n",
    "    if (x==\"Bachelor's\")   :\n",
    "        return 'yes'\n",
    "    else :\n",
    "        return 'no'\n",
    "test['education_new']=test['education'].apply(edu)\n",
    " \n",
    "\n",
    "def age_(x):\n",
    "    if (x >26) & (x<36)   :\n",
    "        return 'yes'\n",
    "    else :\n",
    "        return 'no'\n",
    "test['age_new']=test['age'].apply(age_)    \n",
    "\n",
    "def rat(x):\n",
    "    if (x <3)   :\n",
    "        return 'yes'\n",
    "    else :\n",
    "        return 'no'\n",
    "test['previous_year_rating_new']=test['previous_year_rating'].apply(rat)    \n",
    "\n",
    "def ser(x):\n",
    "    if (x >1) & (x<9)   :\n",
    "        return 'yes'\n",
    "    else :\n",
    "        return 'no'\n",
    "test['length_of_service_new']=test['length_of_service'].apply(ser)  \n",
    "\n",
    "def avg_train(x):\n",
    "    if x >60   :\n",
    "        return 'yes'\n",
    "    else :\n",
    "        return 'no'\n",
    "test['avg_training_score_new']=test['avg_training_score'].apply(avg_train)  \n",
    "\n",
    "def train_scor(x):\n",
    "    if x==1 :\n",
    "        return 'yes'\n",
    "    else :\n",
    "        return 'no'\n",
    "    \n",
    "test['train__score']=test['no_of_trainings'].apply(train_scor)   \n"
   ]
  },
  {
   "cell_type": "code",
   "execution_count": 161,
   "id": "abc10d73",
   "metadata": {},
   "outputs": [
    {
     "data": {
      "text/plain": [
       "Index(['department', 'region', 'education', 'gender', 'recruitment_channel',\n",
       "       'no_of_trainings', 'age', 'previous_year_rating', 'length_of_service',\n",
       "       'KPIs_met >80%', 'awards_won?', 'avg_training_score', 'Train_score',\n",
       "       'star_emp', 'department_new', 'region_new', 'education_new', 'age_new',\n",
       "       'length_of_service_new', 'previous_year_rating_new',\n",
       "       'avg_training_score_new', 'train__score'],\n",
       "      dtype='object')"
      ]
     },
     "execution_count": 161,
     "metadata": {},
     "output_type": "execute_result"
    }
   ],
   "source": [
    "test.columns"
   ]
  },
  {
   "cell_type": "code",
   "execution_count": 162,
   "id": "d5b1bec2",
   "metadata": {},
   "outputs": [],
   "source": [
    "test['age_l']=pd.cut(test['age'],bins=[20,30,40,62],labels=['20','30','40'])"
   ]
  },
  {
   "cell_type": "code",
   "execution_count": 163,
   "id": "97889e51",
   "metadata": {},
   "outputs": [],
   "source": [
    "test['best_emp']=test[['department_new', 'region_new', 'education_new',\n",
    "       'age_new', 'previous_year_rating_new', 'length_of_service_new',\n",
    "       'avg_training_score_new', 'Train_score', 'star_emp']].any(axis=1,skipna=False)\n",
    "\n",
    "test.best_emp = test.best_emp.apply(lambda x: 1 if x==True else 0)"
   ]
  },
  {
   "cell_type": "code",
   "execution_count": 164,
   "id": "0c24ebd0",
   "metadata": {},
   "outputs": [],
   "source": [
    "test.drop([ 'age','KPIs_met >80%'],axis=1,inplace=True)\n",
    "test=pd.get_dummies(test,drop_first=True)"
   ]
  },
  {
   "cell_type": "code",
   "execution_count": 166,
   "id": "0f38b0a8",
   "metadata": {},
   "outputs": [
    {
     "data": {
      "text/plain": [
       "(23490, 21)"
      ]
     },
     "execution_count": 166,
     "metadata": {},
     "output_type": "execute_result"
    }
   ],
   "source": [
    "test.shape"
   ]
  },
  {
   "cell_type": "code",
   "execution_count": 167,
   "id": "b451490b",
   "metadata": {},
   "outputs": [],
   "source": [
    "test.drop(['department', 'region', 'education', 'gender', 'recruitment_channel','awards_won?'\n",
    "        ],axis=1,inplace=True)"
   ]
  },
  {
   "cell_type": "code",
   "execution_count": 168,
   "id": "68153db1",
   "metadata": {},
   "outputs": [
    {
     "data": {
      "text/plain": [
       "(23490, 15)"
      ]
     },
     "execution_count": 168,
     "metadata": {},
     "output_type": "execute_result"
    }
   ],
   "source": [
    "test.shape"
   ]
  },
  {
   "cell_type": "code",
   "execution_count": 138,
   "id": "77eccba6",
   "metadata": {},
   "outputs": [
    {
     "data": {
      "text/html": [
       "<div>\n",
       "<style scoped>\n",
       "    .dataframe tbody tr th:only-of-type {\n",
       "        vertical-align: middle;\n",
       "    }\n",
       "\n",
       "    .dataframe tbody tr th {\n",
       "        vertical-align: top;\n",
       "    }\n",
       "\n",
       "    .dataframe thead th {\n",
       "        text-align: right;\n",
       "    }\n",
       "</style>\n",
       "<table border=\"1\" class=\"dataframe\">\n",
       "  <thead>\n",
       "    <tr style=\"text-align: right;\">\n",
       "      <th></th>\n",
       "      <th>no_of_trainings</th>\n",
       "      <th>previous_year_rating</th>\n",
       "      <th>length_of_service</th>\n",
       "      <th>avg_training_score</th>\n",
       "      <th>Train_score</th>\n",
       "      <th>star_emp</th>\n",
       "      <th>best_emp</th>\n",
       "      <th>age_new_yes</th>\n",
       "      <th>length_of_service_new_yes</th>\n",
       "      <th>previous_year_rating_new_yes</th>\n",
       "      <th>avg_training_score_new_yes</th>\n",
       "      <th>train__score_yes</th>\n",
       "      <th>age_l_30</th>\n",
       "      <th>age_l_40</th>\n",
       "    </tr>\n",
       "    <tr>\n",
       "      <th>employee_id</th>\n",
       "      <th></th>\n",
       "      <th></th>\n",
       "      <th></th>\n",
       "      <th></th>\n",
       "      <th></th>\n",
       "      <th></th>\n",
       "      <th></th>\n",
       "      <th></th>\n",
       "      <th></th>\n",
       "      <th></th>\n",
       "      <th></th>\n",
       "      <th></th>\n",
       "      <th></th>\n",
       "      <th></th>\n",
       "    </tr>\n",
       "  </thead>\n",
       "  <tbody>\n",
       "    <tr>\n",
       "      <th>8724</th>\n",
       "      <td>1</td>\n",
       "      <td>0.0</td>\n",
       "      <td>1</td>\n",
       "      <td>77</td>\n",
       "      <td>77</td>\n",
       "      <td>1</td>\n",
       "      <td>1</td>\n",
       "      <td>0</td>\n",
       "      <td>0</td>\n",
       "      <td>1</td>\n",
       "      <td>1</td>\n",
       "      <td>1</td>\n",
       "      <td>0</td>\n",
       "      <td>0</td>\n",
       "    </tr>\n",
       "    <tr>\n",
       "      <th>74430</th>\n",
       "      <td>1</td>\n",
       "      <td>3.0</td>\n",
       "      <td>5</td>\n",
       "      <td>51</td>\n",
       "      <td>51</td>\n",
       "      <td>0</td>\n",
       "      <td>1</td>\n",
       "      <td>1</td>\n",
       "      <td>1</td>\n",
       "      <td>0</td>\n",
       "      <td>0</td>\n",
       "      <td>1</td>\n",
       "      <td>1</td>\n",
       "      <td>0</td>\n",
       "    </tr>\n",
       "    <tr>\n",
       "      <th>72255</th>\n",
       "      <td>1</td>\n",
       "      <td>1.0</td>\n",
       "      <td>4</td>\n",
       "      <td>47</td>\n",
       "      <td>47</td>\n",
       "      <td>0</td>\n",
       "      <td>1</td>\n",
       "      <td>1</td>\n",
       "      <td>1</td>\n",
       "      <td>1</td>\n",
       "      <td>0</td>\n",
       "      <td>1</td>\n",
       "      <td>1</td>\n",
       "      <td>0</td>\n",
       "    </tr>\n",
       "    <tr>\n",
       "      <th>38562</th>\n",
       "      <td>3</td>\n",
       "      <td>2.0</td>\n",
       "      <td>9</td>\n",
       "      <td>65</td>\n",
       "      <td>195</td>\n",
       "      <td>0</td>\n",
       "      <td>1</td>\n",
       "      <td>1</td>\n",
       "      <td>0</td>\n",
       "      <td>1</td>\n",
       "      <td>1</td>\n",
       "      <td>0</td>\n",
       "      <td>1</td>\n",
       "      <td>0</td>\n",
       "    </tr>\n",
       "    <tr>\n",
       "      <th>64486</th>\n",
       "      <td>1</td>\n",
       "      <td>4.0</td>\n",
       "      <td>7</td>\n",
       "      <td>61</td>\n",
       "      <td>61</td>\n",
       "      <td>0</td>\n",
       "      <td>1</td>\n",
       "      <td>1</td>\n",
       "      <td>1</td>\n",
       "      <td>0</td>\n",
       "      <td>1</td>\n",
       "      <td>1</td>\n",
       "      <td>0</td>\n",
       "      <td>0</td>\n",
       "    </tr>\n",
       "  </tbody>\n",
       "</table>\n",
       "</div>"
      ],
      "text/plain": [
       "             no_of_trainings  previous_year_rating  length_of_service  \\\n",
       "employee_id                                                             \n",
       "8724                       1                   0.0                  1   \n",
       "74430                      1                   3.0                  5   \n",
       "72255                      1                   1.0                  4   \n",
       "38562                      3                   2.0                  9   \n",
       "64486                      1                   4.0                  7   \n",
       "\n",
       "             avg_training_score  Train_score  star_emp  best_emp  age_new_yes  \\\n",
       "employee_id                                                                     \n",
       "8724                         77           77         1         1            0   \n",
       "74430                        51           51         0         1            1   \n",
       "72255                        47           47         0         1            1   \n",
       "38562                        65          195         0         1            1   \n",
       "64486                        61           61         0         1            1   \n",
       "\n",
       "             length_of_service_new_yes  previous_year_rating_new_yes  \\\n",
       "employee_id                                                            \n",
       "8724                                 0                             1   \n",
       "74430                                1                             0   \n",
       "72255                                1                             1   \n",
       "38562                                0                             1   \n",
       "64486                                1                             0   \n",
       "\n",
       "             avg_training_score_new_yes  train__score_yes  age_l_30  age_l_40  \n",
       "employee_id                                                                    \n",
       "8724                                  1                 1         0         0  \n",
       "74430                                 0                 1         1         0  \n",
       "72255                                 0                 1         1         0  \n",
       "38562                                 1                 0         1         0  \n",
       "64486                                 1                 1         0         0  "
      ]
     },
     "execution_count": 138,
     "metadata": {},
     "output_type": "execute_result"
    }
   ],
   "source": [
    "test.head()"
   ]
  },
  {
   "cell_type": "code",
   "execution_count": 169,
   "id": "5c8d667b",
   "metadata": {},
   "outputs": [],
   "source": [
    "test['no_of_trainings']=pd.to_numeric(test['no_of_trainings'])\n",
    "test['previous_year_rating']=pd.to_numeric(test['previous_year_rating'])\n",
    "test['length_of_service']=pd.to_numeric(test['length_of_service'])\n",
    "test['avg_training_score']=pd.to_numeric(test['avg_training_score'])"
   ]
  },
  {
   "cell_type": "code",
   "execution_count": 170,
   "id": "e2cacb58",
   "metadata": {},
   "outputs": [],
   "source": [
    "from sklearn.preprocessing import MinMaxScaler\n",
    "mn=MinMaxScaler()\n",
    "test=pd.DataFrame(mn.fit_transform(test),columns=test.columns,index=test.index)"
   ]
  },
  {
   "cell_type": "code",
   "execution_count": 171,
   "id": "57b08bbb",
   "metadata": {},
   "outputs": [
    {
     "data": {
      "text/plain": [
       "Index(['no_of_trainings', 'previous_year_rating', 'length_of_service',\n",
       "       'avg_training_score', 'Train_score', 'star_emp', 'best_emp',\n",
       "       'KPIs_met >80%_1', 'age_new_yes', 'length_of_service_new_yes',\n",
       "       'previous_year_rating_new_yes', 'avg_training_score_new_yes',\n",
       "       'train__score_yes', 'age_l_30', 'age_l_40'],\n",
       "      dtype='object')"
      ]
     },
     "execution_count": 171,
     "metadata": {},
     "output_type": "execute_result"
    }
   ],
   "source": [
    "test.columns"
   ]
  },
  {
   "cell_type": "code",
   "execution_count": 172,
   "id": "99e25b48",
   "metadata": {},
   "outputs": [
    {
     "data": {
      "text/plain": [
       "Index(['no_of_trainings', 'previous_year_rating', 'length_of_service',\n",
       "       'avg_training_score', 'Train_score', 'star_emp', 'best_emp', 'age_l_30',\n",
       "       'age_l_40', 'department_new_yes', 'region_new_yes', 'education_new_yes',\n",
       "       'age_new_yes', 'previous_year_rating_new_yes',\n",
       "       'length_of_service_new_yes', 'avg_training_score_new_yes',\n",
       "       'train__score_yes'],\n",
       "      dtype='object')"
      ]
     },
     "execution_count": 172,
     "metadata": {},
     "output_type": "execute_result"
    }
   ],
   "source": [
    "X_train.columns"
   ]
  },
  {
   "cell_type": "markdown",
   "id": "75273977",
   "metadata": {},
   "source": [
    "# Using Lr _model"
   ]
  },
  {
   "cell_type": "code",
   "execution_count": null,
   "id": "a2aa6862",
   "metadata": {},
   "outputs": [],
   "source": [
    "y_pred_final=lr_model.predict(test)\n",
    "\n",
    "lr_model_pred=pd.DataFrame({'is_promoted':y_pred_final},index=test.index)\n",
    "\n",
    "lr_model_pred.head()"
   ]
  },
  {
   "cell_type": "code",
   "execution_count": null,
   "id": "92051629",
   "metadata": {},
   "outputs": [],
   "source": [
    "lr_model_pred.to_csv('lr_model_pred.csv')"
   ]
  },
  {
   "cell_type": "markdown",
   "id": "fb4714fc",
   "metadata": {},
   "source": [
    "# Decision Tree "
   ]
  },
  {
   "cell_type": "code",
   "execution_count": null,
   "id": "3f673751",
   "metadata": {},
   "outputs": [],
   "source": [
    "y_pred_dc=dc_model.predict(test)\n",
    "dc_model_pred=pd.DataFrame({'is_promoted':y_pred_dc},index=test.index)\n",
    "\n",
    "dc_model_pred.head()"
   ]
  },
  {
   "cell_type": "code",
   "execution_count": null,
   "id": "ed5f4356",
   "metadata": {},
   "outputs": [],
   "source": [
    "dc_model_pred.to_csv('dc_model_pred.csv')"
   ]
  },
  {
   "cell_type": "markdown",
   "id": "1a2795ef",
   "metadata": {},
   "source": [
    "# Random Forest"
   ]
  },
  {
   "cell_type": "code",
   "execution_count": null,
   "id": "9194c99b",
   "metadata": {},
   "outputs": [],
   "source": [
    "y_pred_rf=Rfc_model.predict(test)\n",
    "\n",
    "rf_model_pred=pd.DataFrame({'is_promoted':y_pred_rf},index=test.index)\n",
    "\n",
    "rf_model_pred.head()"
   ]
  },
  {
   "cell_type": "code",
   "execution_count": null,
   "id": "a16cad24",
   "metadata": {},
   "outputs": [],
   "source": [
    "rf_model_pred.to_csv('rf_model_pred.csv')"
   ]
  },
  {
   "cell_type": "markdown",
   "id": "22896271",
   "metadata": {},
   "source": [
    "# Xgboost"
   ]
  },
  {
   "cell_type": "code",
   "execution_count": null,
   "id": "16c2521d",
   "metadata": {},
   "outputs": [],
   "source": [
    "y_pred_x=xgb_model.predict(test)\n",
    "xg_model_pred=pd.DataFrame({'is_promoted':y_pred_x},index=test.index)\n",
    "\n",
    "xg_model_pred.head()"
   ]
  },
  {
   "cell_type": "code",
   "execution_count": null,
   "id": "4ae07878",
   "metadata": {},
   "outputs": [],
   "source": [
    "xg_model_pred.to_csv('xg_model_pred_3.csv')"
   ]
  },
  {
   "cell_type": "markdown",
   "id": "7603c491",
   "metadata": {},
   "source": [
    "# Gb model"
   ]
  },
  {
   "cell_type": "code",
   "execution_count": null,
   "id": "737eea90",
   "metadata": {},
   "outputs": [],
   "source": [
    "y_pred_gb=gb_model.predict(test)\n",
    "\n",
    "gb_model_pred=pd.DataFrame({'is_promoted':y_pred_gb},index=test.index)\n",
    "\n",
    "gb_model_pred.head()"
   ]
  },
  {
   "cell_type": "code",
   "execution_count": null,
   "id": "d144bf78",
   "metadata": {},
   "outputs": [],
   "source": [
    "gb_model_pred.to_csv('gb_model_pred_2.csv')"
   ]
  },
  {
   "cell_type": "markdown",
   "id": "e9af48b5",
   "metadata": {},
   "source": [
    "# Adaboost _model"
   ]
  },
  {
   "cell_type": "code",
   "execution_count": null,
   "id": "00063da8",
   "metadata": {},
   "outputs": [],
   "source": [
    "y_pred_abc=abc_model.predict(test)\n",
    "abc_model_pred=pd.DataFrame({'is_promoted':y_pred_abc},index=test.index)\n",
    "\n",
    "abc_model_pred.head()\n",
    "abc_model_pred.to_csv('abc_model_pred_2.csv')"
   ]
  },
  {
   "cell_type": "markdown",
   "id": "68db4381",
   "metadata": {},
   "source": [
    "# SGD Classifier "
   ]
  },
  {
   "cell_type": "code",
   "execution_count": null,
   "id": "3c8ada2a",
   "metadata": {},
   "outputs": [],
   "source": [
    "y_pred_sgd=sgd_model.predict(test)\n",
    "sgd_model_pred=pd.DataFrame({'is_promoted':y_pred_sgd},index=test.index)\n",
    "\n",
    "sgd_model_pred.head()\n",
    "sgd_model_pred.to_csv('abc_model_pred_2.csv')"
   ]
  },
  {
   "cell_type": "code",
   "execution_count": null,
   "id": "eab2dd1d",
   "metadata": {},
   "outputs": [],
   "source": []
  },
  {
   "cell_type": "code",
   "execution_count": null,
   "id": "2be9dc7c",
   "metadata": {},
   "outputs": [],
   "source": []
  }
 ],
 "metadata": {
  "kernelspec": {
   "display_name": "Python 3",
   "language": "python",
   "name": "python3"
  },
  "language_info": {
   "codemirror_mode": {
    "name": "ipython",
    "version": 3
   },
   "file_extension": ".py",
   "mimetype": "text/x-python",
   "name": "python",
   "nbconvert_exporter": "python",
   "pygments_lexer": "ipython3",
   "version": "3.8.8"
  }
 },
 "nbformat": 4,
 "nbformat_minor": 5
}
